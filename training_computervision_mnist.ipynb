{
  "cells": [
    {
      "cell_type": "markdown",
      "id": "6e64d027",
      "metadata": {
        "id": "6e64d027"
      },
      "source": [
        "## Coding problem : classifying handwritten digits (MNIST dataset)"
      ]
    },
    {
      "cell_type": "markdown",
      "id": "8da42603",
      "metadata": {
        "id": "8da42603"
      },
      "source": [
        "The objective of this task is to train a simple neural network on the mnist dataset in order to classify the handwritten digits into numbers ranging from zero to 9.\n",
        "The problem is a multi class classification problem on image data.\n",
        "\n",
        "Number of classes = 10\n",
        "\n",
        "Task = multi class classification"
      ]
    },
    {
      "cell_type": "markdown",
      "id": "6cf3228c",
      "metadata": {
        "id": "6cf3228c"
      },
      "source": [
        "### Reading the data"
      ]
    },
    {
      "cell_type": "code",
      "execution_count": 160,
      "id": "b113b315",
      "metadata": {
        "id": "b113b315"
      },
      "outputs": [],
      "source": [
        "from keras.datasets import mnist\n",
        "from matplotlib import pyplot\n",
        "import tensorflow as tf\n",
        "from tensorflow import keras\n",
        "import numpy as np"
      ]
    },
    {
      "cell_type": "code",
      "execution_count": 161,
      "id": "ecJurJOWK8af",
      "metadata": {
        "id": "ecJurJOWK8af"
      },
      "outputs": [],
      "source": [
        "from sklearn.metrics import confusion_matrix, ConfusionMatrixDisplay\n",
        "from sklearn.metrics import accuracy_score"
      ]
    },
    {
      "cell_type": "code",
      "execution_count": 183,
      "id": "0bdd4c64",
      "metadata": {
        "id": "0bdd4c64"
      },
      "outputs": [],
      "source": [
        "(train_X, train_y), (test_X, test_y) = mnist.load_data()"
      ]
    },
    {
      "cell_type": "markdown",
      "id": "78d3bbe3",
      "metadata": {
        "id": "78d3bbe3"
      },
      "source": [
        "### Data visualisation "
      ]
    },
    {
      "cell_type": "code",
      "execution_count": 184,
      "id": "fa7b44f8",
      "metadata": {
        "colab": {
          "base_uri": "https://localhost:8080/"
        },
        "id": "fa7b44f8",
        "outputId": "096ab6ab-9182-47a8-ecf4-e10829491721"
      },
      "outputs": [
        {
          "name": "stdout",
          "output_type": "stream",
          "text": [
            "X_train:(60000, 28, 28)\n",
            "Y_train:(60000,)\n",
            "X_test:(10000, 28, 28)\n",
            "Y_test:(10000,)\n"
          ]
        }
      ],
      "source": [
        "print('X_train:' + str(train_X.shape))\n",
        "print('Y_train:' + str(train_y.shape))\n",
        "print('X_test:'  + str(test_X.shape))\n",
        "print('Y_test:'  + str(test_y.shape))"
      ]
    },
    {
      "cell_type": "markdown",
      "id": "WjT0HqHiaF9s",
      "metadata": {
        "id": "WjT0HqHiaF9s"
      },
      "source": [
        "Preparing for deployment : extracting one image to be tested later in the webservice."
      ]
    },
    {
      "cell_type": "code",
      "execution_count": 185,
      "id": "CrT1tNv9ZuQR",
      "metadata": {
        "colab": {
          "base_uri": "https://localhost:8080/"
        },
        "id": "CrT1tNv9ZuQR",
        "outputId": "88509077-9239-4b5d-ba6c-26d69b364b07"
      },
      "outputs": [
        {
          "data": {
            "text/plain": [
              "True"
            ]
          },
          "execution_count": 185,
          "metadata": {},
          "output_type": "execute_result"
        }
      ],
      "source": [
        "import cv2\n",
        "cv2.imwrite(\"sample.png\",train_X[59980])"
      ]
    },
    {
      "cell_type": "markdown",
      "id": "FvQAAQ36ajMq",
      "metadata": {
        "id": "FvQAAQ36ajMq"
      },
      "source": [
        "Data vizualisation"
      ]
    },
    {
      "cell_type": "code",
      "execution_count": 186,
      "id": "87b09fc0",
      "metadata": {
        "colab": {
          "base_uri": "https://localhost:8080/",
          "height": 1000
        },
        "id": "87b09fc0",
        "outputId": "35d87cc9-ee31-4e8f-860f-67cb5319f7fb"
      },
      "outputs": [
        {
          "data": {
            "image/png": "[encoded data removed]",
            "text/plain": [
              "<Figure size 432x288 with 1 Axes>"
            ]
          },
          "metadata": {
            "needs_background": "light"
          },
          "output_type": "display_data"
        },
        {
          "data": {
            "image/png": "[encoded data removed]",
            "text/plain": [
              "<Figure size 432x288 with 1 Axes>"
            ]
          },
          "metadata": {
            "needs_background": "light"
          },
          "output_type": "display_data"
        },
        {
          "data": {
            "image/png": "[encoded data removed]",
            "text/plain": [
              "<Figure size 432x288 with 1 Axes>"
            ]
          },
          "metadata": {
            "needs_background": "light"
          },
          "output_type": "display_data"
        },
        {
          "data": {
            "image/png": "[encoded data removed]",
            "text/plain": [
              "<Figure size 432x288 with 1 Axes>"
            ]
          },
          "metadata": {
            "needs_background": "light"
          },
          "output_type": "display_data"
        },
        {
          "data": {
            "image/png": "[encoded data removed]",
            "text/plain": [
              "<Figure size 432x288 with 1 Axes>"
            ]
          },
          "metadata": {
            "needs_background": "light"
          },
          "output_type": "display_data"
        }
      ],
      "source": [
        "for i in range(59995,60000):  \n",
        "    pyplot.imshow(train_X[i])\n",
        "    pyplot.show()"
      ]
    },
    {
      "cell_type": "markdown",
      "id": "e2cc9ba8",
      "metadata": {
        "id": "e2cc9ba8"
      },
      "source": [
        "### Preprocessing"
      ]
    },
    {
      "cell_type": "code",
      "execution_count": 187,
      "id": "7c5f4e83",
      "metadata": {
        "colab": {
          "base_uri": "https://localhost:8080/"
        },
        "id": "7c5f4e83",
        "outputId": "147b71c6-ca57-4497-a5c2-452ec1cc4645"
      },
      "outputs": [
        {
          "name": "stdout",
          "output_type": "stream",
          "text": [
            "28\n"
          ]
        },
        {
          "data": {
            "text/plain": [
              "784"
            ]
          },
          "execution_count": 187,
          "metadata": {},
          "output_type": "execute_result"
        }
      ],
      "source": [
        "image_size = train_X.shape[1]\n",
        "print(image_size)\n",
        "input_size = image_size * image_size\n",
        "input_size"
      ]
    },
    {
      "cell_type": "markdown",
      "id": "eedd87df",
      "metadata": {
        "id": "eedd87df"
      },
      "source": [
        "Resize the NN input fot training purposes"
      ]
    },
    {
      "cell_type": "code",
      "execution_count": 188,
      "id": "4313262e",
      "metadata": {
        "id": "4313262e"
      },
      "outputs": [],
      "source": [
        "train_X = np.reshape(train_X, [-1, input_size])\n",
        "test_X = np.reshape(test_X, [-1, input_size])"
      ]
    },
    {
      "cell_type": "markdown",
      "id": "75f0d6c0",
      "metadata": {
        "id": "75f0d6c0"
      },
      "source": [
        "In order to train a neural network the data should be converted into floats in the training set.\n",
        "The values of the numbers in the training set should be scaled between 0 and 255 (the data is already standarized) we divide by 255 to normalise the data and have values between 0 and 1."
      ]
    },
    {
      "cell_type": "code",
      "execution_count": 189,
      "id": "2606395d",
      "metadata": {
        "id": "2606395d"
      },
      "outputs": [],
      "source": [
        "train_X=tf.cast(train_X, tf.float32) / 255.0"
      ]
    },
    {
      "cell_type": "code",
      "execution_count": 190,
      "id": "a14f10b7",
      "metadata": {
        "id": "a14f10b7"
      },
      "outputs": [],
      "source": [
        "train_y=tf.cast(train_y, tf.int32) "
      ]
    },
    {
      "cell_type": "markdown",
      "id": "18117b44",
      "metadata": {
        "id": "18117b44"
      },
      "source": [
        "One hot encoding of the classes (y), the hyperparameter depth corresponds to the number of classes"
      ]
    },
    {
      "cell_type": "code",
      "execution_count": 191,
      "id": "69cba9ba",
      "metadata": {
        "id": "69cba9ba"
      },
      "outputs": [],
      "source": [
        "train_y = tf.one_hot(train_y, depth=10)"
      ]
    },
    {
      "cell_type": "markdown",
      "id": "93036d0f",
      "metadata": {
        "id": "93036d0f"
      },
      "source": [
        "Building training set using the tensorflow api"
      ]
    },
    {
      "cell_type": "code",
      "execution_count": 192,
      "id": "d68b5e10",
      "metadata": {
        "id": "d68b5e10"
      },
      "outputs": [],
      "source": [
        "\n",
        "train = tf.data.Dataset.from_tensor_slices((train_X, train_y))"
      ]
    },
    {
      "cell_type": "markdown",
      "id": "8b3c3bc7",
      "metadata": {
        "id": "8b3c3bc7"
      },
      "source": [
        "Similarily to the previous steps we build a test set scaled and compatible with the tensorflow api."
      ]
    },
    {
      "cell_type": "code",
      "execution_count": 193,
      "id": "59879a88",
      "metadata": {
        "id": "59879a88"
      },
      "outputs": [],
      "source": [
        "test_X=tf.cast(test_X, tf.float32) / 255.0\n",
        "test_y=tf.cast(test_y, tf.int32) \n",
        "test_y = tf.one_hot(test_y, depth=10)\n",
        "test = tf.data.Dataset.from_tensor_slices((test_X, test_y))"
      ]
    },
    {
      "cell_type": "code",
      "execution_count": 194,
      "id": "11f533d0",
      "metadata": {
        "colab": {
          "base_uri": "https://localhost:8080/"
        },
        "id": "11f533d0",
        "outputId": "20def530-de28-4939-ab02-dc5f49961498"
      },
      "outputs": [
        {
          "name": "stdout",
          "output_type": "stream",
          "text": [
            "tensors: [0 0 0 ... 0 0 0]\n"
          ]
        }
      ],
      "source": [
        "import sys\n",
        "\n",
        "tf.print(\"tensors:\", train_X[0], output_stream=sys.stdout)"
      ]
    },
    {
      "cell_type": "code",
      "execution_count": 195,
      "id": "Sppg7A055KSx",
      "metadata": {
        "colab": {
          "base_uri": "https://localhost:8080/"
        },
        "id": "Sppg7A055KSx",
        "outputId": "8066bf08-9f33-4c25-8e44-40307817d5f0"
      },
      "outputs": [
        {
          "data": {
            "text/plain": [
              "<tf.Tensor: shape=(60000, 784), dtype=float32, numpy=\n",
              "array([[0., 0., 0., ..., 0., 0., 0.],\n",
              "       [0., 0., 0., ..., 0., 0., 0.],\n",
              "       [0., 0., 0., ..., 0., 0., 0.],\n",
              "       ...,\n",
              "       [0., 0., 0., ..., 0., 0., 0.],\n",
              "       [0., 0., 0., ..., 0., 0., 0.],\n",
              "       [0., 0., 0., ..., 0., 0., 0.]], dtype=float32)>"
            ]
          },
          "execution_count": 195,
          "metadata": {},
          "output_type": "execute_result"
        }
      ],
      "source": [
        "train_X"
      ]
    },
    {
      "cell_type": "code",
      "execution_count": 196,
      "id": "iON0n2iV3r6Z",
      "metadata": {
        "id": "iON0n2iV3r6Z"
      },
      "outputs": [],
      "source": [
        "\n",
        "val_X=train_X[55000:]\n",
        "train_X=train_X[:55000]\n",
        "val_y=train_y[55000:]\n",
        "train_y=train_y[:55000]\n",
        "\n"
      ]
    },
    {
      "cell_type": "markdown",
      "id": "0443c34f",
      "metadata": {
        "id": "0443c34f"
      },
      "source": [
        "Designing the Neural network (initial architecture)"
      ]
    },
    {
      "cell_type": "code",
      "execution_count": 175,
      "id": "ad4619d9",
      "metadata": {
        "id": "ad4619d9"
      },
      "outputs": [],
      "source": [
        "img_classifier = keras.Sequential([\n",
        "    #input_shape=(28, 28)), #number of pixels are 28x28\n",
        "    #hidden layers choosing a number of layer as a power of 8 with a relu activation function. Relu is ideal for representing complex relationships between the input and the output because of its non linearity\n",
        "    keras.layers.Dense(units=256, activation='relu', input_dim=input_size),\n",
        "    keras.layers.Dense(units=192, activation='relu'),\n",
        "    keras.layers.Dense(units=128, activation='relu'),\n",
        "    keras.layers.Dense(units=10, activation='softmax') #number of classes 10  \n",
        "])"
      ]
    },
    {
      "cell_type": "code",
      "execution_count": null,
      "id": "1079e322",
      "metadata": {
        "colab": {
          "base_uri": "https://localhost:8080/"
        },
        "id": "1079e322",
        "outputId": "64492bec-db07-40dc-b290-de6d5929dcf3"
      },
      "outputs": [
        {
          "name": "stdout",
          "output_type": "stream",
          "text": [
            "Help on package keras.api._v2.keras.losses in keras.api._v2.keras:\n",
            "\n",
            "NAME\n",
            "    keras.api._v2.keras.losses - Built-in loss functions.\n",
            "\n",
            "PACKAGE CONTENTS\n",
            "\n",
            "\n",
            "FILE\n",
            "    /usr/local/lib/python3.9/dist-packages/keras/api/_v2/keras/losses/__init__.py\n",
            "\n",
            "\n"
          ]
        }
      ],
      "source": [
        "help(tf.losses)"
      ]
    },
    {
      "cell_type": "code",
      "execution_count": null,
      "id": "a50e5c2f",
      "metadata": {
        "id": "a50e5c2f"
      },
      "outputs": [],
      "source": [
        "img_classifier.compile(optimizer='adam', \n",
        "              #loss function categorical_crossentropy because we re in a multi class classification problem, other loss functions like binary crossentropy wdnt be a good fit\n",
        "              loss=\"categorical_crossentropy\",\n",
        "              metrics=['accuracy'])\n",
        "\n"
      ]
    },
    {
      "cell_type": "code",
      "execution_count": null,
      "id": "iHxp7PF1ymPw",
      "metadata": {
        "id": "iHxp7PF1ymPw"
      },
      "outputs": [],
      "source": [
        "img_classifier.build()"
      ]
    },
    {
      "cell_type": "code",
      "execution_count": null,
      "id": "sO2e7175y93F",
      "metadata": {
        "colab": {
          "base_uri": "https://localhost:8080/"
        },
        "id": "sO2e7175y93F",
        "outputId": "874f676c-bd7f-4cff-805f-c2471670b60e"
      },
      "outputs": [
        {
          "name": "stdout",
          "output_type": "stream",
          "text": [
            "Model: \"sequential_3\"\n",
            "_________________________________________________________________\n",
            " Layer (type)                Output Shape              Param #   \n",
            "=================================================================\n",
            " dense_12 (Dense)            (None, 256)               200960    \n",
            "                                                                 \n",
            " dense_13 (Dense)            (None, 192)               49344     \n",
            "                                                                 \n",
            " dense_14 (Dense)            (None, 128)               24704     \n",
            "                                                                 \n",
            " dense_15 (Dense)            (None, 10)                1290      \n",
            "                                                                 \n",
            "=================================================================\n",
            "Total params: 276,298\n",
            "Trainable params: 276,298\n",
            "Non-trainable params: 0\n",
            "_________________________________________________________________\n"
          ]
        }
      ],
      "source": [
        "img_classifier.summary()"
      ]
    },
    {
      "cell_type": "code",
      "execution_count": null,
      "id": "PoLpJyg0QURZ",
      "metadata": {
        "id": "PoLpJyg0QURZ"
      },
      "outputs": [],
      "source": [
        "early_stopping_cb=keras.callbacks.EarlyStopping(patience=10)\n",
        "early_stopping_mc=keras.callbacks.ModelCheckpoint(\"minst.h5\",save_best_only=False)"
      ]
    },
    {
      "cell_type": "code",
      "execution_count": null,
      "id": "LXDDNXMD5C_4",
      "metadata": {
        "colab": {
          "base_uri": "https://localhost:8080/"
        },
        "id": "LXDDNXMD5C_4",
        "outputId": "aaa97add-1b39-4f66-b073-ec8cc7d173d9"
      },
      "outputs": [
        {
          "data": {
            "text/plain": [
              "<tf.Tensor: shape=(0, 784), dtype=float32, numpy=array([], shape=(0, 784), dtype=float32)>"
            ]
          },
          "execution_count": 49,
          "metadata": {},
          "output_type": "execute_result"
        }
      ],
      "source": [
        "val_X"
      ]
    },
    {
      "cell_type": "code",
      "execution_count": null,
      "id": "KYcQ5KxGzGXl",
      "metadata": {
        "colab": {
          "base_uri": "https://localhost:8080/"
        },
        "id": "KYcQ5KxGzGXl",
        "outputId": "342c1cf1-8d8f-4ed5-ec11-aa9c83e7b0f3"
      },
      "outputs": [
        {
          "name": "stdout",
          "output_type": "stream",
          "text": [
            "Epoch 1/20\n",
            "110/110 [==============================] - 4s 29ms/step - loss: 0.4472 - accuracy: 0.8783 - val_loss: 0.1408 - val_accuracy: 0.9622\n",
            "Epoch 2/20\n",
            "110/110 [==============================] - 2s 17ms/step - loss: 0.1519 - accuracy: 0.9553 - val_loss: 0.1055 - val_accuracy: 0.9704\n",
            "Epoch 3/20\n",
            "110/110 [==============================] - 2s 16ms/step - loss: 0.0998 - accuracy: 0.9702 - val_loss: 0.0978 - val_accuracy: 0.9702\n",
            "Epoch 4/20\n",
            "110/110 [==============================] - 2s 17ms/step - loss: 0.0754 - accuracy: 0.9766 - val_loss: 0.0819 - val_accuracy: 0.9776\n",
            "Epoch 5/20\n",
            "110/110 [==============================] - 2s 17ms/step - loss: 0.0536 - accuracy: 0.9838 - val_loss: 0.0708 - val_accuracy: 0.9788\n",
            "Epoch 6/20\n",
            "110/110 [==============================] - 2s 17ms/step - loss: 0.0410 - accuracy: 0.9875 - val_loss: 0.0749 - val_accuracy: 0.9792\n",
            "Epoch 7/20\n",
            "110/110 [==============================] - 3s 28ms/step - loss: 0.0316 - accuracy: 0.9905 - val_loss: 0.0733 - val_accuracy: 0.9788\n",
            "Epoch 8/20\n",
            "110/110 [==============================] - 2s 17ms/step - loss: 0.0254 - accuracy: 0.9927 - val_loss: 0.0681 - val_accuracy: 0.9826\n",
            "Epoch 9/20\n",
            "110/110 [==============================] - 2s 17ms/step - loss: 0.0206 - accuracy: 0.9940 - val_loss: 0.0823 - val_accuracy: 0.9774\n",
            "Epoch 10/20\n",
            "110/110 [==============================] - 2s 17ms/step - loss: 0.0151 - accuracy: 0.9959 - val_loss: 0.0871 - val_accuracy: 0.9764\n",
            "Epoch 11/20\n",
            "110/110 [==============================] - 2s 16ms/step - loss: 0.0126 - accuracy: 0.9964 - val_loss: 0.0787 - val_accuracy: 0.9820\n",
            "Epoch 12/20\n",
            "110/110 [==============================] - 2s 17ms/step - loss: 0.0092 - accuracy: 0.9975 - val_loss: 0.0837 - val_accuracy: 0.9810\n",
            "Epoch 13/20\n",
            "110/110 [==============================] - 3s 24ms/step - loss: 0.0100 - accuracy: 0.9971 - val_loss: 0.0813 - val_accuracy: 0.9796\n",
            "Epoch 14/20\n",
            "110/110 [==============================] - 2s 20ms/step - loss: 0.0088 - accuracy: 0.9973 - val_loss: 0.0866 - val_accuracy: 0.9804\n",
            "Epoch 15/20\n",
            "110/110 [==============================] - 2s 17ms/step - loss: 0.0102 - accuracy: 0.9967 - val_loss: 0.0798 - val_accuracy: 0.9826\n",
            "Epoch 16/20\n",
            "110/110 [==============================] - 2s 16ms/step - loss: 0.0055 - accuracy: 0.9986 - val_loss: 0.0934 - val_accuracy: 0.9804\n",
            "Epoch 17/20\n",
            "110/110 [==============================] - 2s 17ms/step - loss: 0.0033 - accuracy: 0.9992 - val_loss: 0.0907 - val_accuracy: 0.9832\n",
            "Epoch 18/20\n",
            "110/110 [==============================] - 2s 16ms/step - loss: 0.0022 - accuracy: 0.9995 - val_loss: 0.0939 - val_accuracy: 0.9828\n"
          ]
        }
      ],
      "source": [
        "history = img_classifier.fit(train_X, train_y, epochs=20, batch_size=500, verbose=1,\n",
        "                                    validation_data=(val_X, val_y), callbacks=[early_stopping_cb,early_stopping_mc])"
      ]
    },
    {
      "cell_type": "markdown",
      "id": "_djWBjrtaOl4",
      "metadata": {
        "id": "_djWBjrtaOl4"
      },
      "source": [
        "### Base Model Evaluation"
      ]
    },
    {
      "cell_type": "code",
      "execution_count": null,
      "id": "pQAGGKvzGZqU",
      "metadata": {
        "colab": {
          "base_uri": "https://localhost:8080/"
        },
        "id": "pQAGGKvzGZqU",
        "outputId": "d0690e08-2d57-49bc-897f-0a2aef7722a5"
      },
      "outputs": [
        {
          "name": "stdout",
          "output_type": "stream",
          "text": [
            "20/20 [==============================] - 0s 6ms/step - loss: 0.0843 - accuracy: 0.9809\n",
            "\n",
            "Test accuracy: 98.1%\n"
          ]
        }
      ],
      "source": [
        "loss, acc = img_classifier.evaluate(test_X, test_y, batch_size=500)\n",
        "print(\"\\nTest accuracy: %.1f%%\" % (100.0 * acc))"
      ]
    },
    {
      "cell_type": "code",
      "execution_count": null,
      "id": "MKULnd2dF5eC",
      "metadata": {
        "colab": {
          "base_uri": "https://localhost:8080/",
          "height": 795
        },
        "id": "MKULnd2dF5eC",
        "outputId": "6a3e2743-8ff9-4451-dc61-43205695b490"
      },
      "outputs": [
        {
          "data": {
            "image/png": "[encoded data removed]",
            "text/plain": [
              "<Figure size 720x432 with 1 Axes>"
            ]
          },
          "metadata": {
            "needs_background": "light"
          },
          "output_type": "display_data"
        },
        {
          "data": {
            "image/png": "[encoded data removed]",
            "text/plain": [
              "<Figure size 720x432 with 1 Axes>"
            ]
          },
          "metadata": {
            "needs_background": "light"
          },
          "output_type": "display_data"
        }
      ],
      "source": [
        "# Plot the loss function\n",
        "fig, ax = pyplot.subplots(1, 1, figsize=(10,6))\n",
        "ax.plot(np.sqrt(history.history['loss']), 'r', label='train')\n",
        "ax.plot(np.sqrt(history.history['val_loss']), 'b' ,label='val')\n",
        "ax.set_xlabel(r'Epoch', fontsize=20)\n",
        "ax.set_ylabel(r'Loss', fontsize=20)\n",
        "ax.legend()\n",
        "ax.tick_params(labelsize=20)\n",
        "\n",
        "# Plot the accuracy\n",
        "fig, ax = pyplot.subplots(1, 1, figsize=(10,6))\n",
        "ax.plot(np.sqrt(history.history['accuracy']), 'r', label='train')\n",
        "ax.plot(np.sqrt(history.history['val_accuracy']), 'b' ,label='val')\n",
        "ax.set_xlabel(r'Epoch', fontsize=20)\n",
        "ax.set_ylabel(r'Accuracy', fontsize=20)\n",
        "ax.legend()\n",
        "ax.tick_params(labelsize=20)\n"
      ]
    },
    {
      "cell_type": "code",
      "execution_count": null,
      "id": "mRDqoltEK5Fe",
      "metadata": {
        "colab": {
          "base_uri": "https://localhost:8080/"
        },
        "id": "mRDqoltEK5Fe",
        "outputId": "6c29b080-3eab-41f4-dab0-6bb983e29830"
      },
      "outputs": [
        {
          "name": "stdout",
          "output_type": "stream",
          "text": [
            "313/313 [==============================] - 1s 2ms/step\n"
          ]
        }
      ],
      "source": [
        "pred_y=img_classifier.predict(test_X)"
      ]
    },
    {
      "cell_type": "code",
      "execution_count": null,
      "id": "xxjEfMlpM59K",
      "metadata": {
        "id": "xxjEfMlpM59K"
      },
      "outputs": [],
      "source": [
        "pred_y=np.argmax(pred_y, axis=1)\n",
        "\n",
        "test_y=np.argmax(test_y, axis=1)"
      ]
    },
    {
      "cell_type": "code",
      "execution_count": null,
      "id": "gdM1aZ5qLBXb",
      "metadata": {
        "colab": {
          "base_uri": "https://localhost:8080/",
          "height": 279
        },
        "id": "gdM1aZ5qLBXb",
        "outputId": "3c41ea75-2bcf-4701-dfcf-94ae758ece37"
      },
      "outputs": [
        {
          "data": {
            "image/png": "[encoded data removed]",
            "text/plain": [
              "<Figure size 432x288 with 2 Axes>"
            ]
          },
          "metadata": {
            "needs_background": "light"
          },
          "output_type": "display_data"
        }
      ],
      "source": [
        "cm = confusion_matrix(test_y, pred_y)\n",
        "disp = ConfusionMatrixDisplay(confusion_matrix=cm)\n",
        "disp.plot()\n",
        "\n",
        "pyplot.show()"
      ]
    },
    {
      "cell_type": "markdown",
      "id": "HuH_ScJnAHpr",
      "metadata": {
        "id": "HuH_ScJnAHpr"
      },
      "source": [
        "As we can see the base classifier is doing well. we have a Test accuracy equal to 98% and the confusion matrix shows very limited misclassification. We need though to optimise further the hyper parameters in order to improve the loss witnessed in the above figure."
      ]
    },
    {
      "cell_type": "code",
      "execution_count": null,
      "id": "YSARwsYu6xzg",
      "metadata": {
        "id": "YSARwsYu6xzg"
      },
      "outputs": [],
      "source": [
        "# Import datasets, classifiers and performance metrics\n",
        "from sklearn import metrics"
      ]
    },
    {
      "cell_type": "code",
      "execution_count": null,
      "id": "vcncZZLD6iTz",
      "metadata": {
        "colab": {
          "base_uri": "https://localhost:8080/"
        },
        "id": "vcncZZLD6iTz",
        "outputId": "33356dd5-2c0e-4f2f-c1ae-aa73348c0e60"
      },
      "outputs": [
        {
          "name": "stdout",
          "output_type": "stream",
          "text": [
            "Classification report for classifier <keras.engine.sequential.Sequential object at 0x7f32d3d82340>:\n",
            "              precision    recall  f1-score   support\n",
            "\n",
            "           0       0.99      0.99      0.99       980\n",
            "           1       0.99      0.99      0.99      1135\n",
            "           2       0.98      0.98      0.98      1032\n",
            "           3       0.98      0.98      0.98      1010\n",
            "           4       0.98      0.98      0.98       982\n",
            "           5       0.99      0.98      0.98       892\n",
            "           6       0.99      0.98      0.98       958\n",
            "           7       0.98      0.97      0.98      1028\n",
            "           8       0.98      0.98      0.98       974\n",
            "           9       0.97      0.98      0.97      1009\n",
            "\n",
            "    accuracy                           0.98     10000\n",
            "   macro avg       0.98      0.98      0.98     10000\n",
            "weighted avg       0.98      0.98      0.98     10000\n",
            "\n",
            "\n"
          ]
        }
      ],
      "source": [
        "print(\n",
        "    f\"Classification report for classifier {img_classifier}:\\n\"\n",
        "    f\"{metrics.classification_report(test_y, pred_y)}\\n\"\n",
        ")"
      ]
    },
    {
      "cell_type": "markdown",
      "id": "584f6e45",
      "metadata": {
        "id": "584f6e45"
      },
      "source": [
        "### Hyper parameters tuning\n",
        "\n",
        "\n",
        "\n"
      ]
    },
    {
      "cell_type": "code",
      "execution_count": null,
      "id": "0b565500",
      "metadata": {
        "id": "0b565500"
      },
      "outputs": [],
      "source": [
        "\n",
        "from tensorboard.plugins.hparams import api as hp\n",
        "\n",
        "from tensorflow.keras import backend as k\n",
        "HP_DROPOUT = hp.HParam('dropout', hp.Discrete([0.1,0.2, 0.3,0.4,0.45,0.5]))\n",
        "HP_OPTIMIZER = hp.HParam('optimizer', hp.Discrete(['adam', 'sgd']))"
      ]
    },
    {
      "cell_type": "code",
      "execution_count": null,
      "id": "YKdpYXk-TQ3l",
      "metadata": {
        "id": "YKdpYXk-TQ3l"
      },
      "outputs": [],
      "source": [
        "METRIC_acc = 'accuracy'\n",
        "with tf.summary.create_file_writer('logs/mlp/hparam_tuning').as_default():\n",
        "  hp.hparams_config(\n",
        "    hparams=[HP_DROPOUT, HP_OPTIMIZER],\n",
        "    metrics=[hp.Metric(METRIC_acc, display_name='accuracy')],\n",
        "  )"
      ]
    },
    {
      "cell_type": "code",
      "execution_count": null,
      "id": "_OMWl3odSfYQ",
      "metadata": {
        "id": "_OMWl3odSfYQ"
      },
      "outputs": [],
      "source": [
        "early_stopping_cb=keras.callbacks.EarlyStopping(patience=10)\n",
        "early_stopping_mc=keras.callbacks.ModelCheckpoint(\"minst_training.h5\",save_best_only=False)"
      ]
    },
    {
      "cell_type": "markdown",
      "id": "i97t94kIdrAW",
      "metadata": {
        "id": "i97t94kIdrAW"
      },
      "source": [
        "Adding dropout to the architecture and configuring regulation rate!"
      ]
    },
    {
      "cell_type": "code",
      "execution_count": null,
      "id": "y3JOJ5grVTmj",
      "metadata": {
        "id": "y3JOJ5grVTmj"
      },
      "outputs": [],
      "source": [
        "def train_test_model(run_dir,hparams,eps):\n",
        "  model = tf.keras.models.Sequential([\n",
        "    keras.layers.Dense(units=256, activation='relu', input_dim=input_size),\n",
        "    keras.layers.Dropout(hparams[HP_DROPOUT]),\n",
        "    keras.layers.Dense(units=192, activation='relu'), \n",
        "    keras.layers.Dropout(hparams[HP_DROPOUT]),\n",
        "    keras.layers.Dense(units=128, activation='relu'),\n",
        "    keras.layers.Dropout(hparams[HP_DROPOUT]),\n",
        "    keras.layers.Dense(units=10, activation='softmax') #number of classes 10  \n",
        "  ])\n",
        "  model.compile(\n",
        "      optimizer=hparams[HP_OPTIMIZER],\n",
        "      loss='categorical_crossentropy',\n",
        "      metrics=['accuracy'],\n",
        "  )\n",
        "  #model.build()\n",
        "  #model.summary()\n",
        "  model.fit(train_X, train_y, batch_size=500, verbose=1,\n",
        "                                    validation_data=(val_X, val_y), epochs=eps, callbacks=[\n",
        "        tf.keras.callbacks.TensorBoard(run_dir),  # log metrics\n",
        "        hp.KerasCallback(run_dir, hparams),  # log hparams\n",
        "        early_stopping_cb,\n",
        "        early_stopping_mc\n",
        "    ]) # Run with 1 epoch to speed things up for demo purposes\n",
        "  \n",
        "  acc = model.evaluate(test_X, test_y,batch_size=500,)\n",
        "  return acc , model"
      ]
    },
    {
      "cell_type": "code",
      "execution_count": null,
      "id": "EMWDoW-cVDS6",
      "metadata": {
        "id": "EMWDoW-cVDS6"
      },
      "outputs": [],
      "source": [
        "def run(run_dir, hparams):\n",
        "  with tf.summary.create_file_writer(run_dir).as_default():\n",
        "    hp.hparams(hparams)  # record the values used in this trial\n",
        "    accuracy , model = train_test_model(run_dir,hparams,20)\n",
        "    #tf.summary.scalar(\"accuracy\", accuracy, step=500)\n",
        "    return accuracy , model"
      ]
    },
    {
      "cell_type": "code",
      "execution_count": null,
      "id": "qxjGbCa_Ufw6",
      "metadata": {
        "colab": {
          "base_uri": "https://localhost:8080/"
        },
        "id": "qxjGbCa_Ufw6",
        "outputId": "3acf6429-06ab-4b33-eb02-987468a1d6c9"
      },
      "outputs": [
        {
          "name": "stdout",
          "output_type": "stream",
          "text": [
            "--- Starting trial: run-0\n",
            "{'dropout': 0.1, 'optimizer': 'adam'}\n",
            "Epoch 1/20\n",
            "110/110 [==============================] - 4s 29ms/step - loss: 0.5180 - accuracy: 0.8464 - val_loss: 0.1390 - val_accuracy: 0.9576\n",
            "Epoch 2/20\n",
            "110/110 [==============================] - 3s 26ms/step - loss: 0.1759 - accuracy: 0.9477 - val_loss: 0.0986 - val_accuracy: 0.9710\n",
            "Epoch 3/20\n",
            "110/110 [==============================] - 2s 22ms/step - loss: 0.1195 - accuracy: 0.9638 - val_loss: 0.0839 - val_accuracy: 0.9728\n",
            "Epoch 4/20\n",
            "110/110 [==============================] - 2s 23ms/step - loss: 0.0908 - accuracy: 0.9722 - val_loss: 0.0773 - val_accuracy: 0.9766\n",
            "Epoch 5/20\n",
            "110/110 [==============================] - 2s 21ms/step - loss: 0.0700 - accuracy: 0.9793 - val_loss: 0.0674 - val_accuracy: 0.9790\n",
            "Epoch 6/20\n",
            "110/110 [==============================] - 3s 32ms/step - loss: 0.0587 - accuracy: 0.9814 - val_loss: 0.0647 - val_accuracy: 0.9810\n",
            "Epoch 7/20\n",
            "110/110 [==============================] - 3s 24ms/step - loss: 0.0483 - accuracy: 0.9848 - val_loss: 0.0694 - val_accuracy: 0.9792\n",
            "Epoch 8/20\n",
            "110/110 [==============================] - 2s 22ms/step - loss: 0.0428 - accuracy: 0.9863 - val_loss: 0.0661 - val_accuracy: 0.9810\n",
            "Epoch 9/20\n",
            "110/110 [==============================] - 2s 22ms/step - loss: 0.0357 - accuracy: 0.9884 - val_loss: 0.0729 - val_accuracy: 0.9800\n",
            "Epoch 10/20\n",
            "110/110 [==============================] - 2s 22ms/step - loss: 0.0307 - accuracy: 0.9899 - val_loss: 0.0634 - val_accuracy: 0.9820\n",
            "Epoch 11/20\n",
            "110/110 [==============================] - 4s 33ms/step - loss: 0.0279 - accuracy: 0.9907 - val_loss: 0.0647 - val_accuracy: 0.9842\n",
            "Epoch 12/20\n",
            "110/110 [==============================] - 2s 22ms/step - loss: 0.0232 - accuracy: 0.9922 - val_loss: 0.0684 - val_accuracy: 0.9848\n",
            "Epoch 13/20\n",
            "110/110 [==============================] - 2s 21ms/step - loss: 0.0209 - accuracy: 0.9930 - val_loss: 0.0702 - val_accuracy: 0.9822\n",
            "Epoch 14/20\n",
            "110/110 [==============================] - 2s 23ms/step - loss: 0.0198 - accuracy: 0.9934 - val_loss: 0.0671 - val_accuracy: 0.9842\n",
            "Epoch 15/20\n",
            "110/110 [==============================] - 3s 23ms/step - loss: 0.0177 - accuracy: 0.9944 - val_loss: 0.0658 - val_accuracy: 0.9840\n",
            "Epoch 16/20\n",
            "110/110 [==============================] - 4s 33ms/step - loss: 0.0143 - accuracy: 0.9954 - val_loss: 0.0706 - val_accuracy: 0.9822\n",
            "Epoch 17/20\n",
            "110/110 [==============================] - 2s 23ms/step - loss: 0.0139 - accuracy: 0.9956 - val_loss: 0.0716 - val_accuracy: 0.9840\n",
            "Epoch 18/20\n",
            "110/110 [==============================] - 2s 22ms/step - loss: 0.0151 - accuracy: 0.9949 - val_loss: 0.0752 - val_accuracy: 0.9832\n",
            "Epoch 19/20\n",
            "110/110 [==============================] - 2s 23ms/step - loss: 0.0138 - accuracy: 0.9953 - val_loss: 0.0797 - val_accuracy: 0.9830\n",
            "Epoch 20/20\n",
            "110/110 [==============================] - 3s 27ms/step - loss: 0.0147 - accuracy: 0.9947 - val_loss: 0.0822 - val_accuracy: 0.9838\n",
            "20/20 [==============================] - 0s 8ms/step - loss: 0.0767 - accuracy: 0.9820\n",
            "--- Starting trial: run-1\n",
            "{'dropout': 0.1, 'optimizer': 'sgd'}\n",
            "Epoch 1/20\n",
            "110/110 [==============================] - 3s 23ms/step - loss: 2.1563 - accuracy: 0.2841 - val_loss: 1.8904 - val_accuracy: 0.6228\n",
            "Epoch 2/20\n",
            "110/110 [==============================] - 2s 22ms/step - loss: 1.6557 - accuracy: 0.5775 - val_loss: 1.1986 - val_accuracy: 0.7820\n",
            "Epoch 3/20\n",
            "110/110 [==============================] - 4s 33ms/step - loss: 1.1226 - accuracy: 0.6937 - val_loss: 0.7570 - val_accuracy: 0.8498\n",
            "Epoch 4/20\n",
            "110/110 [==============================] - 2s 21ms/step - loss: 0.8531 - accuracy: 0.7524 - val_loss: 0.5657 - val_accuracy: 0.8796\n",
            "Epoch 5/20\n",
            "110/110 [==============================] - 2s 21ms/step - loss: 0.7160 - accuracy: 0.7887 - val_loss: 0.4643 - val_accuracy: 0.8944\n",
            "Epoch 6/20\n",
            "110/110 [==============================] - 2s 20ms/step - loss: 0.6334 - accuracy: 0.8127 - val_loss: 0.4032 - val_accuracy: 0.9048\n",
            "Epoch 7/20\n",
            "110/110 [==============================] - 2s 20ms/step - loss: 0.5745 - accuracy: 0.8289 - val_loss: 0.3621 - val_accuracy: 0.9120\n",
            "Epoch 8/20\n",
            "110/110 [==============================] - 3s 32ms/step - loss: 0.5338 - accuracy: 0.8427 - val_loss: 0.3325 - val_accuracy: 0.9154\n",
            "Epoch 9/20\n",
            "110/110 [==============================] - 2s 21ms/step - loss: 0.5000 - accuracy: 0.8540 - val_loss: 0.3104 - val_accuracy: 0.9214\n",
            "Epoch 10/20\n",
            "110/110 [==============================] - 2s 21ms/step - loss: 0.4720 - accuracy: 0.8613 - val_loss: 0.2929 - val_accuracy: 0.9248\n",
            "Epoch 11/20\n",
            "110/110 [==============================] - 2s 20ms/step - loss: 0.4531 - accuracy: 0.8660 - val_loss: 0.2794 - val_accuracy: 0.9266\n",
            "Epoch 12/20\n",
            "110/110 [==============================] - 2s 21ms/step - loss: 0.4338 - accuracy: 0.8716 - val_loss: 0.2678 - val_accuracy: 0.9290\n",
            "Epoch 13/20\n",
            "110/110 [==============================] - 3s 31ms/step - loss: 0.4158 - accuracy: 0.8769 - val_loss: 0.2585 - val_accuracy: 0.9298\n",
            "Epoch 14/20\n",
            "110/110 [==============================] - 2s 20ms/step - loss: 0.4026 - accuracy: 0.8805 - val_loss: 0.2498 - val_accuracy: 0.9312\n",
            "Epoch 15/20\n",
            "110/110 [==============================] - 2s 20ms/step - loss: 0.3925 - accuracy: 0.8849 - val_loss: 0.2422 - val_accuracy: 0.9338\n",
            "Epoch 16/20\n",
            "110/110 [==============================] - 2s 20ms/step - loss: 0.3804 - accuracy: 0.8861 - val_loss: 0.2355 - val_accuracy: 0.9354\n",
            "Epoch 17/20\n",
            "110/110 [==============================] - 2s 21ms/step - loss: 0.3685 - accuracy: 0.8904 - val_loss: 0.2288 - val_accuracy: 0.9364\n",
            "Epoch 18/20\n",
            "110/110 [==============================] - 3s 28ms/step - loss: 0.3633 - accuracy: 0.8933 - val_loss: 0.2241 - val_accuracy: 0.9370\n",
            "Epoch 19/20\n",
            "110/110 [==============================] - 3s 23ms/step - loss: 0.3533 - accuracy: 0.8972 - val_loss: 0.2181 - val_accuracy: 0.9382\n",
            "Epoch 20/20\n",
            "110/110 [==============================] - 2s 20ms/step - loss: 0.3426 - accuracy: 0.9006 - val_loss: 0.2133 - val_accuracy: 0.9382\n",
            "20/20 [==============================] - 0s 7ms/step - loss: 0.2658 - accuracy: 0.9247\n",
            "--- Starting trial: run-2\n",
            "{'dropout': 0.2, 'optimizer': 'adam'}\n",
            "Epoch 1/20\n",
            "110/110 [==============================] - 4s 22ms/step - loss: 0.5674 - accuracy: 0.8270 - val_loss: 0.1387 - val_accuracy: 0.9626\n",
            "Epoch 2/20\n",
            "110/110 [==============================] - 3s 23ms/step - loss: 0.1989 - accuracy: 0.9399 - val_loss: 0.0999 - val_accuracy: 0.9702\n",
            "Epoch 3/20\n",
            "110/110 [==============================] - 3s 30ms/step - loss: 0.1438 - accuracy: 0.9573 - val_loss: 0.0838 - val_accuracy: 0.9752\n",
            "Epoch 4/20\n",
            "110/110 [==============================] - 2s 22ms/step - loss: 0.1123 - accuracy: 0.9659 - val_loss: 0.0782 - val_accuracy: 0.9776\n",
            "Epoch 5/20\n",
            "110/110 [==============================] - 2s 22ms/step - loss: 0.0927 - accuracy: 0.9713 - val_loss: 0.0697 - val_accuracy: 0.9800\n",
            "Epoch 6/20\n",
            "110/110 [==============================] - 2s 21ms/step - loss: 0.0766 - accuracy: 0.9763 - val_loss: 0.0718 - val_accuracy: 0.9792\n",
            "Epoch 7/20\n",
            "110/110 [==============================] - 3s 25ms/step - loss: 0.0689 - accuracy: 0.9790 - val_loss: 0.0707 - val_accuracy: 0.9802\n",
            "Epoch 8/20\n",
            "110/110 [==============================] - 3s 29ms/step - loss: 0.0592 - accuracy: 0.9819 - val_loss: 0.0583 - val_accuracy: 0.9836\n",
            "Epoch 9/20\n",
            "110/110 [==============================] - 2s 22ms/step - loss: 0.0532 - accuracy: 0.9828 - val_loss: 0.0627 - val_accuracy: 0.9830\n",
            "Epoch 10/20\n",
            "110/110 [==============================] - 2s 21ms/step - loss: 0.0469 - accuracy: 0.9852 - val_loss: 0.0674 - val_accuracy: 0.9822\n",
            "Epoch 11/20\n",
            "110/110 [==============================] - 2s 21ms/step - loss: 0.0434 - accuracy: 0.9862 - val_loss: 0.0655 - val_accuracy: 0.9818\n",
            "Epoch 12/20\n",
            "110/110 [==============================] - 3s 25ms/step - loss: 0.0373 - accuracy: 0.9877 - val_loss: 0.0654 - val_accuracy: 0.9828\n",
            "Epoch 13/20\n",
            "110/110 [==============================] - 3s 28ms/step - loss: 0.0356 - accuracy: 0.9888 - val_loss: 0.0703 - val_accuracy: 0.9804\n",
            "Epoch 14/20\n",
            "110/110 [==============================] - 2s 22ms/step - loss: 0.0326 - accuracy: 0.9897 - val_loss: 0.0639 - val_accuracy: 0.9818\n",
            "Epoch 15/20\n",
            "110/110 [==============================] - 2s 21ms/step - loss: 0.0308 - accuracy: 0.9901 - val_loss: 0.0597 - val_accuracy: 0.9832\n",
            "Epoch 16/20\n",
            "110/110 [==============================] - 2s 21ms/step - loss: 0.0277 - accuracy: 0.9910 - val_loss: 0.0645 - val_accuracy: 0.9852\n",
            "Epoch 17/20\n",
            "110/110 [==============================] - 3s 27ms/step - loss: 0.0260 - accuracy: 0.9915 - val_loss: 0.0695 - val_accuracy: 0.9810\n",
            "Epoch 18/20\n",
            "110/110 [==============================] - 3s 26ms/step - loss: 0.0248 - accuracy: 0.9920 - val_loss: 0.0739 - val_accuracy: 0.9826\n",
            "20/20 [==============================] - 0s 7ms/step - loss: 0.0751 - accuracy: 0.9816\n",
            "--- Starting trial: run-3\n",
            "{'dropout': 0.2, 'optimizer': 'sgd'}\n",
            "Epoch 1/20\n",
            "110/110 [==============================] - 3s 22ms/step - loss: 2.2175 - accuracy: 0.1918 - val_loss: 2.0194 - val_accuracy: 0.5792\n",
            "Epoch 2/20\n",
            "110/110 [==============================] - 2s 21ms/step - loss: 1.8891 - accuracy: 0.4562 - val_loss: 1.4958 - val_accuracy: 0.7100\n",
            "Epoch 3/20\n",
            "110/110 [==============================] - 2s 20ms/step - loss: 1.4324 - accuracy: 0.5969 - val_loss: 0.9641 - val_accuracy: 0.8032\n",
            "Epoch 4/20\n",
            "110/110 [==============================] - 4s 32ms/step - loss: 1.0838 - accuracy: 0.6744 - val_loss: 0.6781 - val_accuracy: 0.8592\n",
            "Epoch 5/20\n",
            "110/110 [==============================] - 2s 20ms/step - loss: 0.8919 - accuracy: 0.7240 - val_loss: 0.5349 - val_accuracy: 0.8828\n",
            "Epoch 6/20\n",
            "110/110 [==============================] - 2s 20ms/step - loss: 0.7775 - accuracy: 0.7573 - val_loss: 0.4525 - val_accuracy: 0.8936\n",
            "Epoch 7/20\n",
            "110/110 [==============================] - 2s 21ms/step - loss: 0.7023 - accuracy: 0.7823 - val_loss: 0.4005 - val_accuracy: 0.9012\n",
            "Epoch 8/20\n",
            "110/110 [==============================] - 2s 21ms/step - loss: 0.6465 - accuracy: 0.8012 - val_loss: 0.3628 - val_accuracy: 0.9070\n",
            "Epoch 9/20\n",
            "110/110 [==============================] - 3s 30ms/step - loss: 0.6018 - accuracy: 0.8167 - val_loss: 0.3355 - val_accuracy: 0.9122\n",
            "Epoch 10/20\n",
            "110/110 [==============================] - 2s 21ms/step - loss: 0.5678 - accuracy: 0.8280 - val_loss: 0.3140 - val_accuracy: 0.9168\n",
            "Epoch 11/20\n",
            "110/110 [==============================] - 2s 21ms/step - loss: 0.5401 - accuracy: 0.8360 - val_loss: 0.2982 - val_accuracy: 0.9210\n",
            "Epoch 12/20\n",
            "110/110 [==============================] - 2s 20ms/step - loss: 0.5162 - accuracy: 0.8443 - val_loss: 0.2840 - val_accuracy: 0.9234\n",
            "Epoch 13/20\n",
            "110/110 [==============================] - 2s 20ms/step - loss: 0.4965 - accuracy: 0.8508 - val_loss: 0.2727 - val_accuracy: 0.9256\n",
            "Epoch 14/20\n",
            "110/110 [==============================] - 3s 27ms/step - loss: 0.4792 - accuracy: 0.8567 - val_loss: 0.2628 - val_accuracy: 0.9278\n",
            "Epoch 15/20\n",
            "110/110 [==============================] - 3s 24ms/step - loss: 0.4639 - accuracy: 0.8605 - val_loss: 0.2542 - val_accuracy: 0.9298\n",
            "Epoch 16/20\n",
            "110/110 [==============================] - 2s 20ms/step - loss: 0.4466 - accuracy: 0.8671 - val_loss: 0.2456 - val_accuracy: 0.9310\n",
            "Epoch 17/20\n",
            "110/110 [==============================] - 2s 21ms/step - loss: 0.4368 - accuracy: 0.8696 - val_loss: 0.2394 - val_accuracy: 0.9314\n",
            "Epoch 18/20\n",
            "110/110 [==============================] - 2s 21ms/step - loss: 0.4250 - accuracy: 0.8731 - val_loss: 0.2341 - val_accuracy: 0.9336\n",
            "Epoch 19/20\n",
            "110/110 [==============================] - 3s 26ms/step - loss: 0.4123 - accuracy: 0.8779 - val_loss: 0.2273 - val_accuracy: 0.9360\n",
            "Epoch 20/20\n",
            "110/110 [==============================] - 3s 25ms/step - loss: 0.4053 - accuracy: 0.8787 - val_loss: 0.2220 - val_accuracy: 0.9364\n",
            "20/20 [==============================] - 0s 7ms/step - loss: 0.2713 - accuracy: 0.9227\n",
            "--- Starting trial: run-4\n",
            "{'dropout': 0.3, 'optimizer': 'adam'}\n",
            "Epoch 1/20\n",
            "110/110 [==============================] - 3s 22ms/step - loss: 0.6744 - accuracy: 0.7879 - val_loss: 0.1603 - val_accuracy: 0.9520\n",
            "Epoch 2/20\n",
            "110/110 [==============================] - 2s 22ms/step - loss: 0.2461 - accuracy: 0.9267 - val_loss: 0.1139 - val_accuracy: 0.9674\n",
            "Epoch 3/20\n",
            "110/110 [==============================] - 2s 22ms/step - loss: 0.1756 - accuracy: 0.9479 - val_loss: 0.0900 - val_accuracy: 0.9734\n",
            "Epoch 4/20\n",
            "110/110 [==============================] - 4s 33ms/step - loss: 0.1415 - accuracy: 0.9580 - val_loss: 0.0777 - val_accuracy: 0.9758\n",
            "Epoch 5/20\n",
            "110/110 [==============================] - 2s 22ms/step - loss: 0.1205 - accuracy: 0.9640 - val_loss: 0.0713 - val_accuracy: 0.9776\n",
            "Epoch 6/20\n",
            "110/110 [==============================] - 2s 21ms/step - loss: 0.1045 - accuracy: 0.9683 - val_loss: 0.0662 - val_accuracy: 0.9798\n",
            "Epoch 7/20\n",
            "110/110 [==============================] - 2s 22ms/step - loss: 0.0928 - accuracy: 0.9723 - val_loss: 0.0672 - val_accuracy: 0.9790\n",
            "Epoch 8/20\n",
            "110/110 [==============================] - 2s 22ms/step - loss: 0.0839 - accuracy: 0.9744 - val_loss: 0.0663 - val_accuracy: 0.9810\n",
            "Epoch 9/20\n",
            "110/110 [==============================] - 3s 31ms/step - loss: 0.0745 - accuracy: 0.9765 - val_loss: 0.0633 - val_accuracy: 0.9814\n",
            "Epoch 10/20\n",
            "110/110 [==============================] - 2s 21ms/step - loss: 0.0662 - accuracy: 0.9798 - val_loss: 0.0589 - val_accuracy: 0.9846\n",
            "Epoch 11/20\n",
            "110/110 [==============================] - 2s 21ms/step - loss: 0.0650 - accuracy: 0.9800 - val_loss: 0.0605 - val_accuracy: 0.9828\n",
            "Epoch 12/20\n",
            "110/110 [==============================] - 2s 22ms/step - loss: 0.0580 - accuracy: 0.9822 - val_loss: 0.0577 - val_accuracy: 0.9848\n",
            "Epoch 13/20\n",
            "110/110 [==============================] - 2s 23ms/step - loss: 0.0517 - accuracy: 0.9833 - val_loss: 0.0585 - val_accuracy: 0.9840\n",
            "Epoch 14/20\n",
            "110/110 [==============================] - 3s 31ms/step - loss: 0.0503 - accuracy: 0.9846 - val_loss: 0.0627 - val_accuracy: 0.9828\n",
            "Epoch 15/20\n",
            "110/110 [==============================] - 2s 21ms/step - loss: 0.0481 - accuracy: 0.9852 - val_loss: 0.0613 - val_accuracy: 0.9832\n",
            "Epoch 16/20\n",
            "110/110 [==============================] - 2s 22ms/step - loss: 0.0444 - accuracy: 0.9857 - val_loss: 0.0682 - val_accuracy: 0.9832\n",
            "Epoch 17/20\n",
            "110/110 [==============================] - 2s 21ms/step - loss: 0.0420 - accuracy: 0.9869 - val_loss: 0.0645 - val_accuracy: 0.9824\n",
            "Epoch 18/20\n",
            "110/110 [==============================] - 3s 23ms/step - loss: 0.0411 - accuracy: 0.9872 - val_loss: 0.0565 - val_accuracy: 0.9862\n",
            "Epoch 19/20\n",
            "110/110 [==============================] - 3s 30ms/step - loss: 0.0382 - accuracy: 0.9877 - val_loss: 0.0598 - val_accuracy: 0.9838\n",
            "Epoch 20/20\n",
            "110/110 [==============================] - 2s 22ms/step - loss: 0.0354 - accuracy: 0.9891 - val_loss: 0.0587 - val_accuracy: 0.9844\n",
            "20/20 [==============================] - 0s 12ms/step - loss: 0.0650 - accuracy: 0.9834\n",
            "--- Starting trial: run-5\n",
            "{'dropout': 0.3, 'optimizer': 'sgd'}\n",
            "Epoch 1/20\n",
            "110/110 [==============================] - 4s 26ms/step - loss: 2.2442 - accuracy: 0.1728 - val_loss: 2.0403 - val_accuracy: 0.5322\n",
            "Epoch 2/20\n",
            "110/110 [==============================] - 2s 20ms/step - loss: 1.9767 - accuracy: 0.3610 - val_loss: 1.6231 - val_accuracy: 0.6948\n",
            "Epoch 3/20\n",
            "110/110 [==============================] - 2s 21ms/step - loss: 1.6266 - accuracy: 0.5056 - val_loss: 1.1558 - val_accuracy: 0.7808\n",
            "Epoch 4/20\n",
            "110/110 [==============================] - 2s 21ms/step - loss: 1.3116 - accuracy: 0.5879 - val_loss: 0.8377 - val_accuracy: 0.8252\n",
            "Epoch 5/20\n",
            "110/110 [==============================] - 3s 27ms/step - loss: 1.0943 - accuracy: 0.6484 - val_loss: 0.6538 - val_accuracy: 0.8606\n",
            "Epoch 6/20\n",
            "110/110 [==============================] - 3s 25ms/step - loss: 0.9489 - accuracy: 0.6958 - val_loss: 0.5418 - val_accuracy: 0.8778\n",
            "Epoch 7/20\n",
            "110/110 [==============================] - 2s 21ms/step - loss: 0.8550 - accuracy: 0.7261 - val_loss: 0.4698 - val_accuracy: 0.8924\n",
            "Epoch 8/20\n",
            "110/110 [==============================] - 2s 21ms/step - loss: 0.7792 - accuracy: 0.7521 - val_loss: 0.4192 - val_accuracy: 0.9012\n",
            "Epoch 9/20\n",
            "110/110 [==============================] - 2s 21ms/step - loss: 0.7203 - accuracy: 0.7734 - val_loss: 0.3818 - val_accuracy: 0.9056\n",
            "Epoch 10/20\n",
            "110/110 [==============================] - 3s 25ms/step - loss: 0.6688 - accuracy: 0.7913 - val_loss: 0.3520 - val_accuracy: 0.9096\n",
            "Epoch 11/20\n",
            "110/110 [==============================] - 3s 27ms/step - loss: 0.6320 - accuracy: 0.8046 - val_loss: 0.3290 - val_accuracy: 0.9160\n",
            "Epoch 12/20\n",
            "110/110 [==============================] - 2s 21ms/step - loss: 0.6044 - accuracy: 0.8148 - val_loss: 0.3102 - val_accuracy: 0.9180\n",
            "Epoch 13/20\n",
            "110/110 [==============================] - 2s 20ms/step - loss: 0.5747 - accuracy: 0.8258 - val_loss: 0.2950 - val_accuracy: 0.9214\n",
            "Epoch 14/20\n",
            "110/110 [==============================] - 2s 22ms/step - loss: 0.5518 - accuracy: 0.8333 - val_loss: 0.2826 - val_accuracy: 0.9242\n",
            "Epoch 15/20\n",
            "110/110 [==============================] - 3s 23ms/step - loss: 0.5349 - accuracy: 0.8366 - val_loss: 0.2725 - val_accuracy: 0.9254\n",
            "Epoch 16/20\n",
            "110/110 [==============================] - 3s 28ms/step - loss: 0.5139 - accuracy: 0.8438 - val_loss: 0.2620 - val_accuracy: 0.9260\n",
            "Epoch 17/20\n",
            "110/110 [==============================] - 2s 20ms/step - loss: 0.5017 - accuracy: 0.8498 - val_loss: 0.2538 - val_accuracy: 0.9286\n",
            "Epoch 18/20\n",
            "110/110 [==============================] - 2s 21ms/step - loss: 0.4870 - accuracy: 0.8551 - val_loss: 0.2466 - val_accuracy: 0.9282\n",
            "Epoch 19/20\n",
            "110/110 [==============================] - 2s 20ms/step - loss: 0.4717 - accuracy: 0.8591 - val_loss: 0.2393 - val_accuracy: 0.9306\n",
            "Epoch 20/20\n",
            "110/110 [==============================] - 2s 21ms/step - loss: 0.4592 - accuracy: 0.8637 - val_loss: 0.2339 - val_accuracy: 0.9318\n",
            "20/20 [==============================] - 0s 11ms/step - loss: 0.2870 - accuracy: 0.9167\n",
            "--- Starting trial: run-6\n",
            "{'dropout': 0.4, 'optimizer': 'adam'}\n",
            "Epoch 1/20\n",
            "110/110 [==============================] - 4s 25ms/step - loss: 0.7946 - accuracy: 0.7425 - val_loss: 0.1836 - val_accuracy: 0.9482\n",
            "Epoch 2/20\n",
            "110/110 [==============================] - 2s 22ms/step - loss: 0.3009 - accuracy: 0.9121 - val_loss: 0.1201 - val_accuracy: 0.9646\n",
            "Epoch 3/20\n",
            "110/110 [==============================] - 2s 21ms/step - loss: 0.2241 - accuracy: 0.9361 - val_loss: 0.1007 - val_accuracy: 0.9696\n",
            "Epoch 4/20\n",
            "110/110 [==============================] - 2s 21ms/step - loss: 0.1785 - accuracy: 0.9485 - val_loss: 0.0848 - val_accuracy: 0.9742\n",
            "Epoch 5/20\n",
            "110/110 [==============================] - 3s 30ms/step - loss: 0.1552 - accuracy: 0.9557 - val_loss: 0.0811 - val_accuracy: 0.9774\n",
            "Epoch 6/20\n",
            "110/110 [==============================] - 3s 24ms/step - loss: 0.1349 - accuracy: 0.9609 - val_loss: 0.0766 - val_accuracy: 0.9776\n",
            "Epoch 7/20\n",
            "110/110 [==============================] - 2s 22ms/step - loss: 0.1222 - accuracy: 0.9645 - val_loss: 0.0761 - val_accuracy: 0.9774\n",
            "Epoch 8/20\n",
            "110/110 [==============================] - 2s 21ms/step - loss: 0.1094 - accuracy: 0.9686 - val_loss: 0.0682 - val_accuracy: 0.9800\n",
            "Epoch 9/20\n",
            "110/110 [==============================] - 2s 22ms/step - loss: 0.1025 - accuracy: 0.9699 - val_loss: 0.0651 - val_accuracy: 0.9798\n",
            "Epoch 10/20\n",
            "110/110 [==============================] - 4s 32ms/step - loss: 0.0982 - accuracy: 0.9716 - val_loss: 0.0646 - val_accuracy: 0.9800\n",
            "Epoch 11/20\n",
            "110/110 [==============================] - 2s 22ms/step - loss: 0.0879 - accuracy: 0.9741 - val_loss: 0.0685 - val_accuracy: 0.9818\n",
            "Epoch 12/20\n",
            "110/110 [==============================] - 2s 21ms/step - loss: 0.0828 - accuracy: 0.9758 - val_loss: 0.0616 - val_accuracy: 0.9824\n",
            "Epoch 13/20\n",
            "110/110 [==============================] - 2s 21ms/step - loss: 0.0793 - accuracy: 0.9766 - val_loss: 0.0629 - val_accuracy: 0.9820\n",
            "Epoch 14/20\n",
            "110/110 [==============================] - 2s 22ms/step - loss: 0.0722 - accuracy: 0.9780 - val_loss: 0.0625 - val_accuracy: 0.9814\n",
            "Epoch 15/20\n",
            "110/110 [==============================] - 4s 34ms/step - loss: 0.0712 - accuracy: 0.9792 - val_loss: 0.0624 - val_accuracy: 0.9830\n",
            "Epoch 16/20\n",
            "110/110 [==============================] - 2s 22ms/step - loss: 0.0670 - accuracy: 0.9799 - val_loss: 0.0618 - val_accuracy: 0.9820\n",
            "Epoch 17/20\n",
            "110/110 [==============================] - 2s 22ms/step - loss: 0.0636 - accuracy: 0.9811 - val_loss: 0.0580 - val_accuracy: 0.9838\n",
            "Epoch 18/20\n",
            "110/110 [==============================] - 2s 23ms/step - loss: 0.0604 - accuracy: 0.9817 - val_loss: 0.0645 - val_accuracy: 0.9816\n",
            "Epoch 19/20\n",
            "110/110 [==============================] - 2s 22ms/step - loss: 0.0610 - accuracy: 0.9815 - val_loss: 0.0587 - val_accuracy: 0.9836\n",
            "Epoch 20/20\n",
            "110/110 [==============================] - 4s 33ms/step - loss: 0.0582 - accuracy: 0.9820 - val_loss: 0.0617 - val_accuracy: 0.9820\n",
            "20/20 [==============================] - 0s 7ms/step - loss: 0.0712 - accuracy: 0.9807\n",
            "--- Starting trial: run-7\n",
            "{'dropout': 0.4, 'optimizer': 'sgd'}\n",
            "Epoch 1/20\n",
            "110/110 [==============================] - 3s 22ms/step - loss: 2.2712 - accuracy: 0.1551 - val_loss: 2.0932 - val_accuracy: 0.5008\n",
            "Epoch 2/20\n",
            "110/110 [==============================] - 4s 32ms/step - loss: 2.0988 - accuracy: 0.2737 - val_loss: 1.8186 - val_accuracy: 0.6686\n",
            "Epoch 3/20\n",
            "110/110 [==============================] - 2s 22ms/step - loss: 1.8703 - accuracy: 0.3961 - val_loss: 1.4256 - val_accuracy: 0.7518\n",
            "Epoch 4/20\n",
            "110/110 [==============================] - 2s 20ms/step - loss: 1.5858 - accuracy: 0.4960 - val_loss: 1.0394 - val_accuracy: 0.8038\n",
            "Epoch 5/20\n",
            "110/110 [==============================] - 2s 21ms/step - loss: 1.3385 - accuracy: 0.5646 - val_loss: 0.7927 - val_accuracy: 0.8348\n",
            "Epoch 6/20\n",
            "110/110 [==============================] - 2s 21ms/step - loss: 1.1782 - accuracy: 0.6109 - val_loss: 0.6511 - val_accuracy: 0.8600\n",
            "Epoch 7/20\n",
            "110/110 [==============================] - 4s 32ms/step - loss: 1.0506 - accuracy: 0.6549 - val_loss: 0.5555 - val_accuracy: 0.8760\n",
            "Epoch 8/20\n",
            "110/110 [==============================] - 2s 20ms/step - loss: 0.9554 - accuracy: 0.6877 - val_loss: 0.4895 - val_accuracy: 0.8872\n",
            "Epoch 9/20\n",
            "110/110 [==============================] - 2s 21ms/step - loss: 0.8827 - accuracy: 0.7118 - val_loss: 0.4415 - val_accuracy: 0.8950\n",
            "Epoch 10/20\n",
            "110/110 [==============================] - 2s 21ms/step - loss: 0.8200 - accuracy: 0.7331 - val_loss: 0.4050 - val_accuracy: 0.8992\n",
            "Epoch 11/20\n",
            "110/110 [==============================] - 2s 21ms/step - loss: 0.7716 - accuracy: 0.7535 - val_loss: 0.3745 - val_accuracy: 0.9066\n",
            "Epoch 12/20\n",
            "110/110 [==============================] - 3s 31ms/step - loss: 0.7334 - accuracy: 0.7676 - val_loss: 0.3508 - val_accuracy: 0.9100\n",
            "Epoch 13/20\n",
            "110/110 [==============================] - 2s 20ms/step - loss: 0.6970 - accuracy: 0.7813 - val_loss: 0.3326 - val_accuracy: 0.9146\n",
            "Epoch 14/20\n",
            "110/110 [==============================] - 2s 20ms/step - loss: 0.6682 - accuracy: 0.7909 - val_loss: 0.3154 - val_accuracy: 0.9184\n",
            "Epoch 15/20\n",
            "110/110 [==============================] - 2s 21ms/step - loss: 0.6385 - accuracy: 0.8011 - val_loss: 0.3013 - val_accuracy: 0.9198\n",
            "Epoch 16/20\n",
            "110/110 [==============================] - 2s 22ms/step - loss: 0.6234 - accuracy: 0.8099 - val_loss: 0.2902 - val_accuracy: 0.9212\n",
            "Epoch 17/20\n",
            "110/110 [==============================] - 3s 31ms/step - loss: 0.5985 - accuracy: 0.8151 - val_loss: 0.2801 - val_accuracy: 0.9226\n",
            "Epoch 18/20\n",
            "110/110 [==============================] - 2s 21ms/step - loss: 0.5710 - accuracy: 0.8236 - val_loss: 0.2689 - val_accuracy: 0.9236\n",
            "Epoch 19/20\n",
            "110/110 [==============================] - 2s 22ms/step - loss: 0.5652 - accuracy: 0.8277 - val_loss: 0.2618 - val_accuracy: 0.9252\n",
            "Epoch 20/20\n",
            "110/110 [==============================] - 2s 22ms/step - loss: 0.5496 - accuracy: 0.8332 - val_loss: 0.2544 - val_accuracy: 0.9270\n",
            "20/20 [==============================] - 0s 8ms/step - loss: 0.3098 - accuracy: 0.9108\n",
            "--- Starting trial: run-8\n",
            "{'dropout': 0.45, 'optimizer': 'adam'}\n",
            "Epoch 1/20\n",
            "110/110 [==============================] - 4s 31ms/step - loss: 0.8952 - accuracy: 0.7087 - val_loss: 0.1913 - val_accuracy: 0.9440\n",
            "Epoch 2/20\n",
            "110/110 [==============================] - 3s 25ms/step - loss: 0.3337 - accuracy: 0.9053 - val_loss: 0.1225 - val_accuracy: 0.9634\n",
            "Epoch 3/20\n",
            "110/110 [==============================] - 2s 23ms/step - loss: 0.2484 - accuracy: 0.9299 - val_loss: 0.1038 - val_accuracy: 0.9698\n",
            "Epoch 4/20\n",
            "110/110 [==============================] - 2s 22ms/step - loss: 0.2058 - accuracy: 0.9431 - val_loss: 0.0915 - val_accuracy: 0.9744\n",
            "Epoch 5/20\n",
            "110/110 [==============================] - 3s 23ms/step - loss: 0.1771 - accuracy: 0.9510 - val_loss: 0.0873 - val_accuracy: 0.9746\n",
            "Epoch 6/20\n",
            "110/110 [==============================] - 4s 34ms/step - loss: 0.1589 - accuracy: 0.9562 - val_loss: 0.0800 - val_accuracy: 0.9758\n",
            "Epoch 7/20\n",
            "110/110 [==============================] - 3s 23ms/step - loss: 0.1427 - accuracy: 0.9604 - val_loss: 0.0748 - val_accuracy: 0.9766\n",
            "Epoch 8/20\n",
            "110/110 [==============================] - 3s 23ms/step - loss: 0.1329 - accuracy: 0.9627 - val_loss: 0.0714 - val_accuracy: 0.9794\n",
            "Epoch 9/20\n",
            "110/110 [==============================] - 2s 22ms/step - loss: 0.1207 - accuracy: 0.9653 - val_loss: 0.0676 - val_accuracy: 0.9804\n",
            "Epoch 10/20\n",
            "110/110 [==============================] - 3s 25ms/step - loss: 0.1112 - accuracy: 0.9681 - val_loss: 0.0682 - val_accuracy: 0.9812\n",
            "Epoch 11/20\n",
            "110/110 [==============================] - 3s 30ms/step - loss: 0.1067 - accuracy: 0.9696 - val_loss: 0.0698 - val_accuracy: 0.9814\n",
            "Epoch 12/20\n",
            "110/110 [==============================] - 2s 22ms/step - loss: 0.0998 - accuracy: 0.9711 - val_loss: 0.0683 - val_accuracy: 0.9816\n",
            "Epoch 13/20\n",
            "110/110 [==============================] - 2s 22ms/step - loss: 0.0940 - accuracy: 0.9725 - val_loss: 0.0658 - val_accuracy: 0.9812\n",
            "Epoch 14/20\n",
            "110/110 [==============================] - 2s 22ms/step - loss: 0.0898 - accuracy: 0.9736 - val_loss: 0.0670 - val_accuracy: 0.9822\n",
            "Epoch 15/20\n",
            "110/110 [==============================] - 3s 28ms/step - loss: 0.0874 - accuracy: 0.9748 - val_loss: 0.0657 - val_accuracy: 0.9822\n",
            "Epoch 16/20\n",
            "110/110 [==============================] - 3s 27ms/step - loss: 0.0825 - accuracy: 0.9761 - val_loss: 0.0636 - val_accuracy: 0.9824\n",
            "Epoch 17/20\n",
            "110/110 [==============================] - 3s 23ms/step - loss: 0.0817 - accuracy: 0.9757 - val_loss: 0.0620 - val_accuracy: 0.9816\n",
            "Epoch 18/20\n",
            "110/110 [==============================] - 3s 23ms/step - loss: 0.0743 - accuracy: 0.9782 - val_loss: 0.0592 - val_accuracy: 0.9828\n",
            "Epoch 19/20\n",
            "110/110 [==============================] - 2s 22ms/step - loss: 0.0765 - accuracy: 0.9776 - val_loss: 0.0631 - val_accuracy: 0.9826\n",
            "Epoch 20/20\n",
            "110/110 [==============================] - 4s 33ms/step - loss: 0.0742 - accuracy: 0.9779 - val_loss: 0.0607 - val_accuracy: 0.9836\n",
            "20/20 [==============================] - 0s 7ms/step - loss: 0.0721 - accuracy: 0.9807\n",
            "--- Starting trial: run-9\n",
            "{'dropout': 0.45, 'optimizer': 'sgd'}\n",
            "Epoch 1/20\n",
            "110/110 [==============================] - 3s 22ms/step - loss: 2.3016 - accuracy: 0.1381 - val_loss: 2.1205 - val_accuracy: 0.5474\n",
            "Epoch 2/20\n",
            "110/110 [==============================] - 2s 22ms/step - loss: 2.1301 - accuracy: 0.2383 - val_loss: 1.8785 - val_accuracy: 0.6672\n",
            "Epoch 3/20\n",
            "110/110 [==============================] - 3s 29ms/step - loss: 1.9311 - accuracy: 0.3447 - val_loss: 1.5333 - val_accuracy: 0.7136\n",
            "Epoch 4/20\n",
            "110/110 [==============================] - 3s 24ms/step - loss: 1.6910 - accuracy: 0.4378 - val_loss: 1.1872 - val_accuracy: 0.7480\n",
            "Epoch 5/20\n",
            "110/110 [==============================] - 2s 21ms/step - loss: 1.4681 - accuracy: 0.5105 - val_loss: 0.9346 - val_accuracy: 0.7864\n",
            "Epoch 6/20\n",
            "110/110 [==============================] - 2s 21ms/step - loss: 1.3029 - accuracy: 0.5623 - val_loss: 0.7712 - val_accuracy: 0.8232\n",
            "Epoch 7/20\n",
            "110/110 [==============================] - 2s 22ms/step - loss: 1.1717 - accuracy: 0.6051 - val_loss: 0.6598 - val_accuracy: 0.8484\n",
            "Epoch 8/20\n",
            "110/110 [==============================] - 3s 29ms/step - loss: 1.0740 - accuracy: 0.6422 - val_loss: 0.5776 - val_accuracy: 0.8644\n",
            "Epoch 9/20\n",
            "110/110 [==============================] - 3s 24ms/step - loss: 0.9887 - accuracy: 0.6729 - val_loss: 0.5182 - val_accuracy: 0.8778\n",
            "Epoch 10/20\n",
            "110/110 [==============================] - 2s 21ms/step - loss: 0.9275 - accuracy: 0.6930 - val_loss: 0.4731 - val_accuracy: 0.8884\n",
            "Epoch 11/20\n",
            "110/110 [==============================] - 2s 22ms/step - loss: 0.8721 - accuracy: 0.7159 - val_loss: 0.4393 - val_accuracy: 0.8934\n",
            "Epoch 12/20\n",
            "110/110 [==============================] - 2s 22ms/step - loss: 0.8264 - accuracy: 0.7319 - val_loss: 0.4100 - val_accuracy: 0.8994\n",
            "Epoch 13/20\n",
            "110/110 [==============================] - 3s 30ms/step - loss: 0.7904 - accuracy: 0.7449 - val_loss: 0.3880 - val_accuracy: 0.9022\n",
            "Epoch 14/20\n",
            "110/110 [==============================] - 3s 23ms/step - loss: 0.7578 - accuracy: 0.7572 - val_loss: 0.3677 - val_accuracy: 0.9074\n",
            "Epoch 15/20\n",
            "110/110 [==============================] - 2s 22ms/step - loss: 0.7283 - accuracy: 0.7687 - val_loss: 0.3501 - val_accuracy: 0.9100\n",
            "Epoch 16/20\n",
            "110/110 [==============================] - 2s 22ms/step - loss: 0.6993 - accuracy: 0.7807 - val_loss: 0.3343 - val_accuracy: 0.9136\n",
            "Epoch 17/20\n",
            "110/110 [==============================] - 2s 21ms/step - loss: 0.6743 - accuracy: 0.7890 - val_loss: 0.3202 - val_accuracy: 0.9146\n",
            "Epoch 18/20\n",
            "110/110 [==============================] - 3s 30ms/step - loss: 0.6531 - accuracy: 0.7953 - val_loss: 0.3093 - val_accuracy: 0.9164\n",
            "Epoch 19/20\n",
            "110/110 [==============================] - 3s 23ms/step - loss: 0.6384 - accuracy: 0.8021 - val_loss: 0.2998 - val_accuracy: 0.9192\n",
            "Epoch 20/20\n",
            "110/110 [==============================] - 2s 21ms/step - loss: 0.6247 - accuracy: 0.8061 - val_loss: 0.2907 - val_accuracy: 0.9200\n",
            "20/20 [==============================] - 0s 11ms/step - loss: 0.3491 - accuracy: 0.9012\n",
            "--- Starting trial: run-10\n",
            "{'dropout': 0.5, 'optimizer': 'adam'}\n",
            "Epoch 1/20\n",
            "110/110 [==============================] - 4s 24ms/step - loss: 0.9892 - accuracy: 0.6709 - val_loss: 0.2014 - val_accuracy: 0.9458\n",
            "Epoch 2/20\n",
            "110/110 [==============================] - 2s 23ms/step - loss: 0.3733 - accuracy: 0.8930 - val_loss: 0.1384 - val_accuracy: 0.9630\n",
            "Epoch 3/20\n",
            "110/110 [==============================] - 3s 23ms/step - loss: 0.2806 - accuracy: 0.9213 - val_loss: 0.1139 - val_accuracy: 0.9686\n",
            "Epoch 4/20\n",
            "110/110 [==============================] - 3s 29ms/step - loss: 0.2352 - accuracy: 0.9343 - val_loss: 0.0984 - val_accuracy: 0.9714\n",
            "Epoch 5/20\n",
            "110/110 [==============================] - 3s 26ms/step - loss: 0.2057 - accuracy: 0.9424 - val_loss: 0.0949 - val_accuracy: 0.9728\n",
            "Epoch 6/20\n",
            "110/110 [==============================] - 2s 23ms/step - loss: 0.1816 - accuracy: 0.9493 - val_loss: 0.0846 - val_accuracy: 0.9746\n",
            "Epoch 7/20\n",
            "110/110 [==============================] - 2s 22ms/step - loss: 0.1694 - accuracy: 0.9531 - val_loss: 0.0827 - val_accuracy: 0.9776\n",
            "Epoch 8/20\n",
            "110/110 [==============================] - 3s 23ms/step - loss: 0.1544 - accuracy: 0.9577 - val_loss: 0.0787 - val_accuracy: 0.9768\n",
            "Epoch 9/20\n",
            "110/110 [==============================] - 4s 33ms/step - loss: 0.1452 - accuracy: 0.9597 - val_loss: 0.0749 - val_accuracy: 0.9808\n",
            "Epoch 10/20\n",
            "110/110 [==============================] - 3s 23ms/step - loss: 0.1334 - accuracy: 0.9627 - val_loss: 0.0737 - val_accuracy: 0.9788\n",
            "Epoch 11/20\n",
            "110/110 [==============================] - 2s 22ms/step - loss: 0.1293 - accuracy: 0.9632 - val_loss: 0.0723 - val_accuracy: 0.9810\n",
            "Epoch 12/20\n",
            "110/110 [==============================] - 2s 23ms/step - loss: 0.1187 - accuracy: 0.9664 - val_loss: 0.0702 - val_accuracy: 0.9808\n",
            "Epoch 13/20\n",
            "110/110 [==============================] - 2s 23ms/step - loss: 0.1141 - accuracy: 0.9671 - val_loss: 0.0715 - val_accuracy: 0.9806\n",
            "Epoch 14/20\n",
            "110/110 [==============================] - 4s 33ms/step - loss: 0.1137 - accuracy: 0.9680 - val_loss: 0.0684 - val_accuracy: 0.9802\n",
            "Epoch 15/20\n",
            "110/110 [==============================] - 2s 22ms/step - loss: 0.1041 - accuracy: 0.9705 - val_loss: 0.0680 - val_accuracy: 0.9806\n",
            "Epoch 16/20\n",
            "110/110 [==============================] - 2s 22ms/step - loss: 0.1036 - accuracy: 0.9705 - val_loss: 0.0670 - val_accuracy: 0.9798\n",
            "Epoch 17/20\n",
            "110/110 [==============================] - 2s 22ms/step - loss: 0.0982 - accuracy: 0.9723 - val_loss: 0.0684 - val_accuracy: 0.9804\n",
            "Epoch 18/20\n",
            "110/110 [==============================] - 2s 22ms/step - loss: 0.0953 - accuracy: 0.9723 - val_loss: 0.0677 - val_accuracy: 0.9810\n",
            "Epoch 19/20\n",
            "110/110 [==============================] - 4s 34ms/step - loss: 0.0923 - accuracy: 0.9729 - val_loss: 0.0663 - val_accuracy: 0.9804\n",
            "Epoch 20/20\n",
            "110/110 [==============================] - 3s 23ms/step - loss: 0.0878 - accuracy: 0.9745 - val_loss: 0.0649 - val_accuracy: 0.9812\n",
            "20/20 [==============================] - 0s 7ms/step - loss: 0.0766 - accuracy: 0.9788\n",
            "--- Starting trial: run-11\n",
            "{'dropout': 0.5, 'optimizer': 'sgd'}\n",
            "Epoch 1/20\n",
            "110/110 [==============================] - 3s 22ms/step - loss: 2.3492 - accuracy: 0.1246 - val_loss: 2.1552 - val_accuracy: 0.4854\n",
            "Epoch 2/20\n",
            "110/110 [==============================] - 2s 22ms/step - loss: 2.2030 - accuracy: 0.1899 - val_loss: 1.9957 - val_accuracy: 0.6398\n",
            "Epoch 3/20\n",
            "110/110 [==============================] - 3s 29ms/step - loss: 2.0621 - accuracy: 0.2750 - val_loss: 1.7481 - val_accuracy: 0.6934\n",
            "Epoch 4/20\n",
            "110/110 [==============================] - 3s 24ms/step - loss: 1.8767 - accuracy: 0.3548 - val_loss: 1.4386 - val_accuracy: 0.7316\n",
            "Epoch 5/20\n",
            "110/110 [==============================] - 2s 21ms/step - loss: 1.6848 - accuracy: 0.4223 - val_loss: 1.1720 - val_accuracy: 0.7660\n",
            "Epoch 6/20\n",
            "110/110 [==============================] - 2s 22ms/step - loss: 1.5158 - accuracy: 0.4761 - val_loss: 0.9751 - val_accuracy: 0.7998\n",
            "Epoch 7/20\n",
            "110/110 [==============================] - 2s 21ms/step - loss: 1.3738 - accuracy: 0.5254 - val_loss: 0.8286 - val_accuracy: 0.8222\n",
            "Epoch 8/20\n",
            "110/110 [==============================] - 3s 28ms/step - loss: 1.2581 - accuracy: 0.5684 - val_loss: 0.7220 - val_accuracy: 0.8428\n",
            "Epoch 9/20\n",
            "110/110 [==============================] - 3s 25ms/step - loss: 1.1638 - accuracy: 0.6021 - val_loss: 0.6422 - val_accuracy: 0.8570\n",
            "Epoch 10/20\n",
            "110/110 [==============================] - 2s 21ms/step - loss: 1.0871 - accuracy: 0.6284 - val_loss: 0.5790 - val_accuracy: 0.8702\n",
            "Epoch 11/20\n",
            "110/110 [==============================] - 2s 21ms/step - loss: 1.0226 - accuracy: 0.6556 - val_loss: 0.5290 - val_accuracy: 0.8812\n",
            "Epoch 12/20\n",
            "110/110 [==============================] - 2s 21ms/step - loss: 0.9663 - accuracy: 0.6777 - val_loss: 0.4876 - val_accuracy: 0.8884\n",
            "Epoch 13/20\n",
            "110/110 [==============================] - 3s 28ms/step - loss: 0.9188 - accuracy: 0.6951 - val_loss: 0.4550 - val_accuracy: 0.8952\n",
            "Epoch 14/20\n",
            "110/110 [==============================] - 3s 26ms/step - loss: 0.8791 - accuracy: 0.7094 - val_loss: 0.4283 - val_accuracy: 0.9006\n",
            "Epoch 15/20\n",
            "110/110 [==============================] - 2s 21ms/step - loss: 0.8359 - accuracy: 0.7261 - val_loss: 0.4037 - val_accuracy: 0.9038\n",
            "Epoch 16/20\n",
            "110/110 [==============================] - 2s 21ms/step - loss: 0.8113 - accuracy: 0.7370 - val_loss: 0.3817 - val_accuracy: 0.9076\n",
            "Epoch 17/20\n",
            "110/110 [==============================] - 2s 22ms/step - loss: 0.7774 - accuracy: 0.7505 - val_loss: 0.3640 - val_accuracy: 0.9094\n",
            "Epoch 18/20\n",
            "110/110 [==============================] - 3s 26ms/step - loss: 0.7549 - accuracy: 0.7584 - val_loss: 0.3496 - val_accuracy: 0.9120\n",
            "Epoch 19/20\n",
            "110/110 [==============================] - 3s 27ms/step - loss: 0.7268 - accuracy: 0.7688 - val_loss: 0.3354 - val_accuracy: 0.9136\n",
            "Epoch 20/20\n",
            "110/110 [==============================] - 2s 21ms/step - loss: 0.7040 - accuracy: 0.7778 - val_loss: 0.3219 - val_accuracy: 0.9164\n",
            "20/20 [==============================] - 0s 11ms/step - loss: 0.3814 - accuracy: 0.8945\n"
          ]
        }
      ],
      "source": [
        "session_num = 0\n",
        "models=[]\n",
        "for dropout_rate in HP_DROPOUT.domain.values:\n",
        "    for optimizer in HP_OPTIMIZER.domain.values:\n",
        "      hparams = {\n",
        "          HP_DROPOUT: dropout_rate,\n",
        "          HP_OPTIMIZER: optimizer,\n",
        "      }\n",
        "      run_name = \"run-%d\" % session_num\n",
        "      print('--- Starting trial: %s' % run_name)\n",
        "      print({h.name: hparams[h] for h in hparams})\n",
        "      models.append(run('./logs/hparam_tuning_2_3/' + run_name, hparams))\n",
        "      session_num += 1"
      ]
    },
    {
      "cell_type": "code",
      "execution_count": null,
      "id": "GES5lMa9c5-k",
      "metadata": {
        "colab": {
          "base_uri": "https://localhost:8080/"
        },
        "id": "GES5lMa9c5-k",
        "outputId": "9449fd6a-a405-4d4a-bfeb-d774e98ed5ca"
      },
      "outputs": [
        {
          "name": "stdout",
          "output_type": "stream",
          "text": [
            "2023-03-15 22:46:54.457387: W tensorflow/compiler/xla/stream_executor/platform/default/dso_loader.cc:64] Could not load dynamic library 'libnvinfer.so.7'; dlerror: libnvinfer.so.7: cannot open shared object file: No such file or directory; LD_LIBRARY_PATH: /usr/local/nvidia/lib:/usr/local/nvidia/lib64\n",
            "2023-03-15 22:46:54.457501: W tensorflow/compiler/xla/stream_executor/platform/default/dso_loader.cc:64] Could not load dynamic library 'libnvinfer_plugin.so.7'; dlerror: libnvinfer_plugin.so.7: cannot open shared object file: No such file or directory; LD_LIBRARY_PATH: /usr/local/nvidia/lib:/usr/local/nvidia/lib64\n",
            "2023-03-15 22:46:54.457516: W tensorflow/compiler/tf2tensorrt/utils/py_utils.cc:38] TF-TRT Warning: Cannot dlopen some TensorRT libraries. If you would like to use Nvidia GPU with TensorRT, please make sure the missing libraries mentioned above are installed properly.\n",
            "2023-03-15 22:46:56.098255: E tensorflow/compiler/xla/stream_executor/cuda/cuda_driver.cc:267] failed call to cuInit: CUDA_ERROR_NO_DEVICE: no CUDA-capable device is detected\n",
            "\n",
            "NOTE: Using experimental fast data loading logic. To disable, pass\n",
            "    \"--load_fast=false\" and report issues on GitHub. More details:\n",
            "    https://github.com/tensorflow/tensorboard/issues/4784\n",
            "\n",
            "Serving TensorBoard on localhost; to expose to the network, use a proxy or pass --bind_all\n",
            "TensorBoard 2.11.2 at http://localhost:6006/ (Press CTRL+C to quit)\n"
          ]
        }
      ],
      "source": [
        "!tensorboard --logdir logs/mlp/hparam_tuning"
      ]
    },
    {
      "cell_type": "code",
      "execution_count": null,
      "id": "GdKm1QXOb1TE",
      "metadata": {
        "colab": {
          "base_uri": "https://localhost:8080/"
        },
        "id": "GdKm1QXOb1TE",
        "outputId": "2a8ae18f-f81a-491e-b3c3-1e289de85e40"
      },
      "outputs": [
        {
          "name": "stdout",
          "output_type": "stream",
          "text": [
            "([0.07673513144254684, 0.9819999933242798], <keras.engine.sequential.Sequential object at 0x7f32c9c5f160>)\n",
            "([0.2658335566520691, 0.9247000217437744], <keras.engine.sequential.Sequential object at 0x7f32c8d10250>)\n",
            "([0.07511485368013382, 0.9815999865531921], <keras.engine.sequential.Sequential object at 0x7f32c82ee130>)\n",
            "([0.27128732204437256, 0.9226999878883362], <keras.engine.sequential.Sequential object at 0x7f32d3cd7790>)\n",
            "([0.06496474891901016, 0.9833999872207642], <keras.engine.sequential.Sequential object at 0x7f32e40d2700>)\n",
            "([0.28695136308670044, 0.916700005531311], <keras.engine.sequential.Sequential object at 0x7f32d0146f70>)\n",
            "([0.07120592892169952, 0.9807000160217285], <keras.engine.sequential.Sequential object at 0x7f32c812f2b0>)\n",
            "([0.30975988507270813, 0.9107999801635742], <keras.engine.sequential.Sequential object at 0x7f32c073f9a0>)\n",
            "([0.07213472574949265, 0.9807000160217285], <keras.engine.sequential.Sequential object at 0x7f32e358dbb0>)\n",
            "([0.3490550220012665, 0.901199996471405], <keras.engine.sequential.Sequential object at 0x7f32e3442a90>)\n",
            "([0.07659175992012024, 0.9787999987602234], <keras.engine.sequential.Sequential object at 0x7f32e31d2640>)\n",
            "([0.381436824798584, 0.8945000171661377], <keras.engine.sequential.Sequential object at 0x7f32e3000430>)\n"
          ]
        }
      ],
      "source": [
        "for m in models:\n",
        "  print(m)"
      ]
    },
    {
      "cell_type": "code",
      "execution_count": null,
      "id": "0oN7aP1rGNZZ",
      "metadata": {
        "colab": {
          "base_uri": "https://localhost:8080/"
        },
        "id": "0oN7aP1rGNZZ",
        "outputId": "6a30474b-bbcd-439b-8e26-09a67ce96ecc"
      },
      "outputs": [
        {
          "data": {
            "text/plain": [
              "([0.06496474891901016, 0.9833999872207642],\n",
              " <keras.engine.sequential.Sequential at 0x7f32e40d2700>)"
            ]
          },
          "execution_count": 117,
          "metadata": {},
          "output_type": "execute_result"
        }
      ],
      "source": [
        "models[4]"
      ]
    },
    {
      "cell_type": "code",
      "execution_count": null,
      "id": "YBE3AdAjdcEn",
      "metadata": {
        "id": "YBE3AdAjdcEn"
      },
      "outputs": [],
      "source": [
        "best_model=models[0][1]"
      ]
    },
    {
      "cell_type": "code",
      "execution_count": null,
      "id": "dTD1vQXhVdSQ",
      "metadata": {
        "colab": {
          "base_uri": "https://localhost:8080/"
        },
        "id": "dTD1vQXhVdSQ",
        "outputId": "29980304-cf45-44c0-e1a1-cb2d18d4f2d9"
      },
      "outputs": [
        {
          "data": {
            "text/plain": [
              "<keras.engine.sequential.Sequential at 0x7f32c9c5f160>"
            ]
          },
          "execution_count": 103,
          "metadata": {},
          "output_type": "execute_result"
        }
      ],
      "source": [
        "best_model\n"
      ]
    },
    {
      "cell_type": "markdown",
      "id": "Z2lsrZUQHaMx",
      "metadata": {
        "id": "Z2lsrZUQHaMx"
      },
      "source": [
        "with the previous method we identified that the best hyperparameter for the optimizer and the dropout are : for trial run-4\n",
        "{'dropout': 0.3, 'optimizer': 'adam'}"
      ]
    },
    {
      "cell_type": "markdown",
      "id": "q-RniQ6IHqZX",
      "metadata": {
        "id": "q-RniQ6IHqZX"
      },
      "source": [
        "we need now to find the best learning rate and the regularization"
      ]
    },
    {
      "cell_type": "code",
      "execution_count": 176,
      "id": "ZNZAIJZnNgDA",
      "metadata": {
        "id": "ZNZAIJZnNgDA"
      },
      "outputs": [],
      "source": [
        "from keras import regularizers"
      ]
    },
    {
      "cell_type": "code",
      "execution_count": 177,
      "id": "ijUaHjmGHZcd",
      "metadata": {
        "colab": {
          "base_uri": "https://localhost:8080/",
          "height": 1000
        },
        "id": "ijUaHjmGHZcd",
        "outputId": "20a327d8-8b07-4e3d-a937-fed671e60c1a"
      },
      "outputs": [
        {
          "name": "stdout",
          "output_type": "stream",
          "text": [
            "Model: \"sequential_25\"\n",
            "_________________________________________________________________\n",
            " Layer (type)                Output Shape              Param #   \n",
            "=================================================================\n",
            " dense_100 (Dense)           (None, 256)               200960    \n",
            "                                                                 \n",
            " dropout_60 (Dropout)        (None, 256)               0         \n",
            "                                                                 \n",
            " dense_101 (Dense)           (None, 192)               49344     \n",
            "                                                                 \n",
            " dropout_61 (Dropout)        (None, 192)               0         \n",
            "                                                                 \n",
            " dense_102 (Dense)           (None, 128)               24704     \n",
            "                                                                 \n",
            " dropout_62 (Dropout)        (None, 128)               0         \n",
            "                                                                 \n",
            " dense_103 (Dense)           (None, 10)                1290      \n",
            "                                                                 \n",
            "=================================================================\n",
            "Total params: 276,298\n",
            "Trainable params: 276,298\n",
            "Non-trainable params: 0\n",
            "_________________________________________________________________\n",
            "Epoch 1/90\n",
            "110/110 [==============================] - 4s 25ms/step - loss: 3.6608 - accuracy: 0.7417 - val_loss: 1.1918 - val_accuracy: 0.9294\n",
            "Epoch 2/90\n",
            "110/110 [==============================] - 4s 33ms/step - loss: 1.0034 - accuracy: 0.8859 - val_loss: 0.6640 - val_accuracy: 0.9430\n",
            "Epoch 3/90\n",
            "110/110 [==============================] - 3s 23ms/step - loss: 0.7496 - accuracy: 0.9016 - val_loss: 0.5687 - val_accuracy: 0.9502\n",
            "Epoch 4/90\n",
            "110/110 [==============================] - 2s 23ms/step - loss: 0.6751 - accuracy: 0.9105 - val_loss: 0.5258 - val_accuracy: 0.9520\n",
            "Epoch 5/90\n",
            "110/110 [==============================] - 3s 23ms/step - loss: 0.6383 - accuracy: 0.9159 - val_loss: 0.5015 - val_accuracy: 0.9566\n",
            "Epoch 6/90\n",
            "110/110 [==============================] - 3s 32ms/step - loss: 0.6139 - accuracy: 0.9200 - val_loss: 0.4864 - val_accuracy: 0.9552\n",
            "Epoch 7/90\n",
            "110/110 [==============================] - 3s 31ms/step - loss: 0.5953 - accuracy: 0.9227 - val_loss: 0.4699 - val_accuracy: 0.9596\n",
            "Epoch 8/90\n",
            "110/110 [==============================] - 4s 36ms/step - loss: 0.5734 - accuracy: 0.9253 - val_loss: 0.4553 - val_accuracy: 0.9600\n",
            "Epoch 9/90\n",
            "110/110 [==============================] - 3s 23ms/step - loss: 0.5667 - accuracy: 0.9253 - val_loss: 0.4507 - val_accuracy: 0.9608\n",
            "Epoch 10/90\n",
            "110/110 [==============================] - 4s 34ms/step - loss: 0.5483 - accuracy: 0.9292 - val_loss: 0.4350 - val_accuracy: 0.9642\n",
            "Epoch 11/90\n",
            " 95/110 [========================>.....] - ETA: 0s - loss: 0.5373 - accuracy: 0.9301"
          ]
        },
        {
          "ename": "KeyboardInterrupt",
          "evalue": "ignored",
          "output_type": "error",
          "traceback": [
            "\u001b[0;31m---------------------------------------------------------------------------\u001b[0m",
            "\u001b[0;31mKeyboardInterrupt\u001b[0m                         Traceback (most recent call last)",
            "\u001b[0;32m<ipython-input-177-09648a28055d>\u001b[0m in \u001b[0;36m<module>\u001b[0;34m\u001b[0m\n\u001b[1;32m     18\u001b[0m \u001b[0mmodel\u001b[0m\u001b[0;34m.\u001b[0m\u001b[0mbuild\u001b[0m\u001b[0;34m(\u001b[0m\u001b[0;34m)\u001b[0m\u001b[0;34m\u001b[0m\u001b[0;34m\u001b[0m\u001b[0m\n\u001b[1;32m     19\u001b[0m \u001b[0mmodel\u001b[0m\u001b[0;34m.\u001b[0m\u001b[0msummary\u001b[0m\u001b[0;34m(\u001b[0m\u001b[0;34m)\u001b[0m\u001b[0;34m\u001b[0m\u001b[0;34m\u001b[0m\u001b[0m\n\u001b[0;32m---> 20\u001b[0;31m model.fit(train_X, train_y, batch_size=500, verbose=1,\n\u001b[0m\u001b[1;32m     21\u001b[0m                                     validation_data=(val_X, val_y), epochs=90, callbacks=[\n\u001b[1;32m     22\u001b[0m \u001b[0;34m\u001b[0m\u001b[0m\n",
            "\u001b[0;32m/usr/local/lib/python3.9/dist-packages/keras/utils/traceback_utils.py\u001b[0m in \u001b[0;36merror_handler\u001b[0;34m(*args, **kwargs)\u001b[0m\n\u001b[1;32m     63\u001b[0m         \u001b[0mfiltered_tb\u001b[0m \u001b[0;34m=\u001b[0m \u001b[0;32mNone\u001b[0m\u001b[0;34m\u001b[0m\u001b[0;34m\u001b[0m\u001b[0m\n\u001b[1;32m     64\u001b[0m         \u001b[0;32mtry\u001b[0m\u001b[0;34m:\u001b[0m\u001b[0;34m\u001b[0m\u001b[0;34m\u001b[0m\u001b[0m\n\u001b[0;32m---> 65\u001b[0;31m             \u001b[0;32mreturn\u001b[0m \u001b[0mfn\u001b[0m\u001b[0;34m(\u001b[0m\u001b[0;34m*\u001b[0m\u001b[0margs\u001b[0m\u001b[0;34m,\u001b[0m \u001b[0;34m**\u001b[0m\u001b[0mkwargs\u001b[0m\u001b[0;34m)\u001b[0m\u001b[0;34m\u001b[0m\u001b[0;34m\u001b[0m\u001b[0m\n\u001b[0m\u001b[1;32m     66\u001b[0m         \u001b[0;32mexcept\u001b[0m \u001b[0mException\u001b[0m \u001b[0;32mas\u001b[0m \u001b[0me\u001b[0m\u001b[0;34m:\u001b[0m\u001b[0;34m\u001b[0m\u001b[0;34m\u001b[0m\u001b[0m\n\u001b[1;32m     67\u001b[0m             \u001b[0mfiltered_tb\u001b[0m \u001b[0;34m=\u001b[0m \u001b[0m_process_traceback_frames\u001b[0m\u001b[0;34m(\u001b[0m\u001b[0me\u001b[0m\u001b[0;34m.\u001b[0m\u001b[0m__traceback__\u001b[0m\u001b[0;34m)\u001b[0m\u001b[0;34m\u001b[0m\u001b[0;34m\u001b[0m\u001b[0m\n",
            "\u001b[0;32m/usr/local/lib/python3.9/dist-packages/keras/engine/training.py\u001b[0m in \u001b[0;36mfit\u001b[0;34m(self, x, y, batch_size, epochs, verbose, callbacks, validation_split, validation_data, shuffle, class_weight, sample_weight, initial_epoch, steps_per_epoch, validation_steps, validation_batch_size, validation_freq, max_queue_size, workers, use_multiprocessing)\u001b[0m\n\u001b[1;32m   1648\u001b[0m                         ):\n\u001b[1;32m   1649\u001b[0m                             \u001b[0mcallbacks\u001b[0m\u001b[0;34m.\u001b[0m\u001b[0mon_train_batch_begin\u001b[0m\u001b[0;34m(\u001b[0m\u001b[0mstep\u001b[0m\u001b[0;34m)\u001b[0m\u001b[0;34m\u001b[0m\u001b[0;34m\u001b[0m\u001b[0m\n\u001b[0;32m-> 1650\u001b[0;31m                             \u001b[0mtmp_logs\u001b[0m \u001b[0;34m=\u001b[0m \u001b[0mself\u001b[0m\u001b[0;34m.\u001b[0m\u001b[0mtrain_function\u001b[0m\u001b[0;34m(\u001b[0m\u001b[0miterator\u001b[0m\u001b[0;34m)\u001b[0m\u001b[0;34m\u001b[0m\u001b[0;34m\u001b[0m\u001b[0m\n\u001b[0m\u001b[1;32m   1651\u001b[0m                             \u001b[0;32mif\u001b[0m \u001b[0mdata_handler\u001b[0m\u001b[0;34m.\u001b[0m\u001b[0mshould_sync\u001b[0m\u001b[0;34m:\u001b[0m\u001b[0;34m\u001b[0m\u001b[0;34m\u001b[0m\u001b[0m\n\u001b[1;32m   1652\u001b[0m                                 \u001b[0mcontext\u001b[0m\u001b[0;34m.\u001b[0m\u001b[0masync_wait\u001b[0m\u001b[0;34m(\u001b[0m\u001b[0;34m)\u001b[0m\u001b[0;34m\u001b[0m\u001b[0;34m\u001b[0m\u001b[0m\n",
            "\u001b[0;32m/usr/local/lib/python3.9/dist-packages/tensorflow/python/util/traceback_utils.py\u001b[0m in \u001b[0;36merror_handler\u001b[0;34m(*args, **kwargs)\u001b[0m\n\u001b[1;32m    148\u001b[0m     \u001b[0mfiltered_tb\u001b[0m \u001b[0;34m=\u001b[0m \u001b[0;32mNone\u001b[0m\u001b[0;34m\u001b[0m\u001b[0;34m\u001b[0m\u001b[0m\n\u001b[1;32m    149\u001b[0m     \u001b[0;32mtry\u001b[0m\u001b[0;34m:\u001b[0m\u001b[0;34m\u001b[0m\u001b[0;34m\u001b[0m\u001b[0m\n\u001b[0;32m--> 150\u001b[0;31m       \u001b[0;32mreturn\u001b[0m \u001b[0mfn\u001b[0m\u001b[0;34m(\u001b[0m\u001b[0;34m*\u001b[0m\u001b[0margs\u001b[0m\u001b[0;34m,\u001b[0m \u001b[0;34m**\u001b[0m\u001b[0mkwargs\u001b[0m\u001b[0;34m)\u001b[0m\u001b[0;34m\u001b[0m\u001b[0;34m\u001b[0m\u001b[0m\n\u001b[0m\u001b[1;32m    151\u001b[0m     \u001b[0;32mexcept\u001b[0m \u001b[0mException\u001b[0m \u001b[0;32mas\u001b[0m \u001b[0me\u001b[0m\u001b[0;34m:\u001b[0m\u001b[0;34m\u001b[0m\u001b[0;34m\u001b[0m\u001b[0m\n\u001b[1;32m    152\u001b[0m       \u001b[0mfiltered_tb\u001b[0m \u001b[0;34m=\u001b[0m \u001b[0m_process_traceback_frames\u001b[0m\u001b[0;34m(\u001b[0m\u001b[0me\u001b[0m\u001b[0;34m.\u001b[0m\u001b[0m__traceback__\u001b[0m\u001b[0;34m)\u001b[0m\u001b[0;34m\u001b[0m\u001b[0;34m\u001b[0m\u001b[0m\n",
            "\u001b[0;32m/usr/local/lib/python3.9/dist-packages/tensorflow/python/eager/polymorphic_function/polymorphic_function.py\u001b[0m in \u001b[0;36m__call__\u001b[0;34m(self, *args, **kwds)\u001b[0m\n\u001b[1;32m    878\u001b[0m \u001b[0;34m\u001b[0m\u001b[0m\n\u001b[1;32m    879\u001b[0m       \u001b[0;32mwith\u001b[0m \u001b[0mOptionalXlaContext\u001b[0m\u001b[0;34m(\u001b[0m\u001b[0mself\u001b[0m\u001b[0;34m.\u001b[0m\u001b[0m_jit_compile\u001b[0m\u001b[0;34m)\u001b[0m\u001b[0;34m:\u001b[0m\u001b[0;34m\u001b[0m\u001b[0;34m\u001b[0m\u001b[0m\n\u001b[0;32m--> 880\u001b[0;31m         \u001b[0mresult\u001b[0m \u001b[0;34m=\u001b[0m \u001b[0mself\u001b[0m\u001b[0;34m.\u001b[0m\u001b[0m_call\u001b[0m\u001b[0;34m(\u001b[0m\u001b[0;34m*\u001b[0m\u001b[0margs\u001b[0m\u001b[0;34m,\u001b[0m \u001b[0;34m**\u001b[0m\u001b[0mkwds\u001b[0m\u001b[0;34m)\u001b[0m\u001b[0;34m\u001b[0m\u001b[0;34m\u001b[0m\u001b[0m\n\u001b[0m\u001b[1;32m    881\u001b[0m \u001b[0;34m\u001b[0m\u001b[0m\n\u001b[1;32m    882\u001b[0m       \u001b[0mnew_tracing_count\u001b[0m \u001b[0;34m=\u001b[0m \u001b[0mself\u001b[0m\u001b[0;34m.\u001b[0m\u001b[0mexperimental_get_tracing_count\u001b[0m\u001b[0;34m(\u001b[0m\u001b[0;34m)\u001b[0m\u001b[0;34m\u001b[0m\u001b[0;34m\u001b[0m\u001b[0m\n",
            "\u001b[0;32m/usr/local/lib/python3.9/dist-packages/tensorflow/python/eager/polymorphic_function/polymorphic_function.py\u001b[0m in \u001b[0;36m_call\u001b[0;34m(self, *args, **kwds)\u001b[0m\n\u001b[1;32m    910\u001b[0m       \u001b[0;31m# In this case we have created variables on the first call, so we run the\u001b[0m\u001b[0;34m\u001b[0m\u001b[0;34m\u001b[0m\u001b[0m\n\u001b[1;32m    911\u001b[0m       \u001b[0;31m# defunned version which is guaranteed to never create variables.\u001b[0m\u001b[0;34m\u001b[0m\u001b[0;34m\u001b[0m\u001b[0m\n\u001b[0;32m--> 912\u001b[0;31m       \u001b[0;32mreturn\u001b[0m \u001b[0mself\u001b[0m\u001b[0;34m.\u001b[0m\u001b[0m_no_variable_creation_fn\u001b[0m\u001b[0;34m(\u001b[0m\u001b[0;34m*\u001b[0m\u001b[0margs\u001b[0m\u001b[0;34m,\u001b[0m \u001b[0;34m**\u001b[0m\u001b[0mkwds\u001b[0m\u001b[0;34m)\u001b[0m  \u001b[0;31m# pylint: disable=not-callable\u001b[0m\u001b[0;34m\u001b[0m\u001b[0;34m\u001b[0m\u001b[0m\n\u001b[0m\u001b[1;32m    913\u001b[0m     \u001b[0;32melif\u001b[0m \u001b[0mself\u001b[0m\u001b[0;34m.\u001b[0m\u001b[0m_variable_creation_fn\u001b[0m \u001b[0;32mis\u001b[0m \u001b[0;32mnot\u001b[0m \u001b[0;32mNone\u001b[0m\u001b[0;34m:\u001b[0m\u001b[0;34m\u001b[0m\u001b[0;34m\u001b[0m\u001b[0m\n\u001b[1;32m    914\u001b[0m       \u001b[0;31m# Release the lock early so that multiple threads can perform the call\u001b[0m\u001b[0;34m\u001b[0m\u001b[0;34m\u001b[0m\u001b[0m\n",
            "\u001b[0;32m/usr/local/lib/python3.9/dist-packages/tensorflow/python/eager/polymorphic_function/tracing_compiler.py\u001b[0m in \u001b[0;36m__call__\u001b[0;34m(self, *args, **kwargs)\u001b[0m\n\u001b[1;32m    132\u001b[0m       (concrete_function,\n\u001b[1;32m    133\u001b[0m        filtered_flat_args) = self._maybe_define_function(args, kwargs)\n\u001b[0;32m--> 134\u001b[0;31m     return concrete_function._call_flat(\n\u001b[0m\u001b[1;32m    135\u001b[0m         filtered_flat_args, captured_inputs=concrete_function.captured_inputs)  # pylint: disable=protected-access\n\u001b[1;32m    136\u001b[0m \u001b[0;34m\u001b[0m\u001b[0m\n",
            "\u001b[0;32m/usr/local/lib/python3.9/dist-packages/tensorflow/python/eager/polymorphic_function/monomorphic_function.py\u001b[0m in \u001b[0;36m_call_flat\u001b[0;34m(self, args, captured_inputs, cancellation_manager)\u001b[0m\n\u001b[1;32m   1743\u001b[0m         and executing_eagerly):\n\u001b[1;32m   1744\u001b[0m       \u001b[0;31m# No tape is watching; skip to running the function.\u001b[0m\u001b[0;34m\u001b[0m\u001b[0;34m\u001b[0m\u001b[0m\n\u001b[0;32m-> 1745\u001b[0;31m       return self._build_call_outputs(self._inference_function.call(\n\u001b[0m\u001b[1;32m   1746\u001b[0m           ctx, args, cancellation_manager=cancellation_manager))\n\u001b[1;32m   1747\u001b[0m     forward_backward = self._select_forward_and_backward_functions(\n",
            "\u001b[0;32m/usr/local/lib/python3.9/dist-packages/tensorflow/python/eager/polymorphic_function/monomorphic_function.py\u001b[0m in \u001b[0;36mcall\u001b[0;34m(self, ctx, args, cancellation_manager)\u001b[0m\n\u001b[1;32m    376\u001b[0m       \u001b[0;32mwith\u001b[0m \u001b[0m_InterpolateFunctionError\u001b[0m\u001b[0;34m(\u001b[0m\u001b[0mself\u001b[0m\u001b[0;34m)\u001b[0m\u001b[0;34m:\u001b[0m\u001b[0;34m\u001b[0m\u001b[0;34m\u001b[0m\u001b[0m\n\u001b[1;32m    377\u001b[0m         \u001b[0;32mif\u001b[0m \u001b[0mcancellation_manager\u001b[0m \u001b[0;32mis\u001b[0m \u001b[0;32mNone\u001b[0m\u001b[0;34m:\u001b[0m\u001b[0;34m\u001b[0m\u001b[0;34m\u001b[0m\u001b[0m\n\u001b[0;32m--> 378\u001b[0;31m           outputs = execute.execute(\n\u001b[0m\u001b[1;32m    379\u001b[0m               \u001b[0mstr\u001b[0m\u001b[0;34m(\u001b[0m\u001b[0mself\u001b[0m\u001b[0;34m.\u001b[0m\u001b[0msignature\u001b[0m\u001b[0;34m.\u001b[0m\u001b[0mname\u001b[0m\u001b[0;34m)\u001b[0m\u001b[0;34m,\u001b[0m\u001b[0;34m\u001b[0m\u001b[0;34m\u001b[0m\u001b[0m\n\u001b[1;32m    380\u001b[0m               \u001b[0mnum_outputs\u001b[0m\u001b[0;34m=\u001b[0m\u001b[0mself\u001b[0m\u001b[0;34m.\u001b[0m\u001b[0m_num_outputs\u001b[0m\u001b[0;34m,\u001b[0m\u001b[0;34m\u001b[0m\u001b[0;34m\u001b[0m\u001b[0m\n",
            "\u001b[0;32m/usr/local/lib/python3.9/dist-packages/tensorflow/python/eager/execute.py\u001b[0m in \u001b[0;36mquick_execute\u001b[0;34m(op_name, num_outputs, inputs, attrs, ctx, name)\u001b[0m\n\u001b[1;32m     50\u001b[0m   \u001b[0;32mtry\u001b[0m\u001b[0;34m:\u001b[0m\u001b[0;34m\u001b[0m\u001b[0;34m\u001b[0m\u001b[0m\n\u001b[1;32m     51\u001b[0m     \u001b[0mctx\u001b[0m\u001b[0;34m.\u001b[0m\u001b[0mensure_initialized\u001b[0m\u001b[0;34m(\u001b[0m\u001b[0;34m)\u001b[0m\u001b[0;34m\u001b[0m\u001b[0;34m\u001b[0m\u001b[0m\n\u001b[0;32m---> 52\u001b[0;31m     tensors = pywrap_tfe.TFE_Py_Execute(ctx._handle, device_name, op_name,\n\u001b[0m\u001b[1;32m     53\u001b[0m                                         inputs, attrs, num_outputs)\n\u001b[1;32m     54\u001b[0m   \u001b[0;32mexcept\u001b[0m \u001b[0mcore\u001b[0m\u001b[0;34m.\u001b[0m\u001b[0m_NotOkStatusException\u001b[0m \u001b[0;32mas\u001b[0m \u001b[0me\u001b[0m\u001b[0;34m:\u001b[0m\u001b[0;34m\u001b[0m\u001b[0;34m\u001b[0m\u001b[0m\n",
            "\u001b[0;31mKeyboardInterrupt\u001b[0m: "
          ]
        }
      ],
      "source": [
        "model = tf.keras.models.Sequential([\n",
        "    keras.layers.Dense(units=256, activation='relu', input_dim=input_size,\n",
        "                kernel_regularizer=regularizers.l2(0.01)),\n",
        "    keras.layers.Dropout(0.3),\n",
        "    keras.layers.Dense(units=192, activation='relu',\n",
        "                kernel_regularizer=regularizers.l2(0.01)), \n",
        "    keras.layers.Dropout(0.3),\n",
        "    keras.layers.Dense(units=128, activation='relu',\n",
        "                kernel_regularizer=regularizers.l2(0.01)),\n",
        "    keras.layers.Dropout(0.3),\n",
        "    keras.layers.Dense(units=10, activation='softmax') #number of classes 10  \n",
        "  ])\n",
        "model.compile(\n",
        "      optimizer=keras.optimizers.Adam(learning_rate=0.001),\n",
        "      loss='categorical_crossentropy',\n",
        "      metrics=['accuracy'],\n",
        "  )\n",
        "model.build()\n",
        "model.summary()\n",
        "model.fit(train_X, train_y, batch_size=500, verbose=1,\n",
        "                                    validation_data=(val_X, val_y), epochs=90, callbacks=[\n",
        "        \n",
        "        early_stopping_cb,\n",
        "        early_stopping_mc\n",
        "    ]) \n",
        "  \n",
        "acc = model.evaluate(test_X, test_y,batch_size=500,)"
      ]
    },
    {
      "cell_type": "code",
      "execution_count": null,
      "id": "dhj3TKOuKN0T",
      "metadata": {
        "id": "dhj3TKOuKN0T"
      },
      "outputs": [],
      "source": [
        "acc"
      ]
    },
    {
      "cell_type": "markdown",
      "id": "Bx5psxisOygy",
      "metadata": {
        "id": "Bx5psxisOygy"
      },
      "source": [
        "with regularisation the model performs poorly (under fitting). further optimisations should be done to have better parameters. the final model for now will not have regularisation."
      ]
    },
    {
      "cell_type": "markdown",
      "id": "ax2hlLyfLmBr",
      "metadata": {
        "id": "ax2hlLyfLmBr"
      },
      "source": [
        "after many trainings we find the best learning rate for this problem is the default value 0.001"
      ]
    },
    {
      "cell_type": "markdown",
      "id": "ezPD11mDPaEi",
      "metadata": {
        "id": "ezPD11mDPaEi"
      },
      "source": [
        "#### Final model"
      ]
    },
    {
      "cell_type": "code",
      "execution_count": 197,
      "id": "F4lFz9hMPXbh",
      "metadata": {
        "colab": {
          "base_uri": "https://localhost:8080/"
        },
        "id": "F4lFz9hMPXbh",
        "outputId": "10d27d6c-af02-4aac-aee7-0d66bd4aef1f"
      },
      "outputs": [
        {
          "name": "stdout",
          "output_type": "stream",
          "text": [
            "Model: \"sequential_28\"\n",
            "_________________________________________________________________\n",
            " Layer (type)                Output Shape              Param #   \n",
            "=================================================================\n",
            " dense_112 (Dense)           (None, 256)               200960    \n",
            "                                                                 \n",
            " dropout_69 (Dropout)        (None, 256)               0         \n",
            "                                                                 \n",
            " dense_113 (Dense)           (None, 192)               49344     \n",
            "                                                                 \n",
            " dropout_70 (Dropout)        (None, 192)               0         \n",
            "                                                                 \n",
            " dense_114 (Dense)           (None, 128)               24704     \n",
            "                                                                 \n",
            " dropout_71 (Dropout)        (None, 128)               0         \n",
            "                                                                 \n",
            " dense_115 (Dense)           (None, 10)                1290      \n",
            "                                                                 \n",
            "=================================================================\n",
            "Total params: 276,298\n",
            "Trainable params: 276,298\n",
            "Non-trainable params: 0\n",
            "_________________________________________________________________\n",
            "Epoch 1/90\n",
            "110/110 [==============================] - 5s 30ms/step - loss: 0.6861 - accuracy: 0.7854 - val_loss: 0.1626 - val_accuracy: 0.9522\n",
            "Epoch 2/90\n",
            "110/110 [==============================] - 2s 22ms/step - loss: 0.2486 - accuracy: 0.9275 - val_loss: 0.1097 - val_accuracy: 0.9680\n",
            "Epoch 3/90\n",
            "110/110 [==============================] - 3s 26ms/step - loss: 0.1794 - accuracy: 0.9482 - val_loss: 0.0932 - val_accuracy: 0.9740\n",
            "Epoch 4/90\n",
            "110/110 [==============================] - 2s 21ms/step - loss: 0.1424 - accuracy: 0.9578 - val_loss: 0.0865 - val_accuracy: 0.9744\n",
            "Epoch 5/90\n",
            "110/110 [==============================] - 3s 31ms/step - loss: 0.1240 - accuracy: 0.9631 - val_loss: 0.0799 - val_accuracy: 0.9786\n",
            "Epoch 6/90\n",
            "110/110 [==============================] - 3s 23ms/step - loss: 0.1060 - accuracy: 0.9690 - val_loss: 0.0707 - val_accuracy: 0.9782\n",
            "Epoch 7/90\n",
            "110/110 [==============================] - 2s 22ms/step - loss: 0.0930 - accuracy: 0.9719 - val_loss: 0.0681 - val_accuracy: 0.9810\n",
            "Epoch 8/90\n",
            "110/110 [==============================] - 2s 22ms/step - loss: 0.0851 - accuracy: 0.9743 - val_loss: 0.0671 - val_accuracy: 0.9798\n",
            "Epoch 9/90\n",
            "110/110 [==============================] - 2s 22ms/step - loss: 0.0747 - accuracy: 0.9779 - val_loss: 0.0666 - val_accuracy: 0.9812\n",
            "Epoch 10/90\n",
            "110/110 [==============================] - 4s 39ms/step - loss: 0.0708 - accuracy: 0.9785 - val_loss: 0.0641 - val_accuracy: 0.9810\n",
            "Epoch 11/90\n",
            "110/110 [==============================] - 3s 28ms/step - loss: 0.0650 - accuracy: 0.9797 - val_loss: 0.0635 - val_accuracy: 0.9838\n",
            "Epoch 12/90\n",
            "110/110 [==============================] - 2s 21ms/step - loss: 0.0596 - accuracy: 0.9817 - val_loss: 0.0615 - val_accuracy: 0.9836\n",
            "Epoch 13/90\n",
            "110/110 [==============================] - 2s 21ms/step - loss: 0.0509 - accuracy: 0.9837 - val_loss: 0.0589 - val_accuracy: 0.9824\n",
            "Epoch 14/90\n",
            "110/110 [==============================] - 3s 27ms/step - loss: 0.0523 - accuracy: 0.9838 - val_loss: 0.0622 - val_accuracy: 0.9820\n",
            "Epoch 15/90\n",
            "110/110 [==============================] - 3s 26ms/step - loss: 0.0500 - accuracy: 0.9845 - val_loss: 0.0544 - val_accuracy: 0.9838\n",
            "Epoch 16/90\n",
            "110/110 [==============================] - 2s 22ms/step - loss: 0.0460 - accuracy: 0.9854 - val_loss: 0.0592 - val_accuracy: 0.9830\n",
            "Epoch 17/90\n",
            "110/110 [==============================] - 2s 21ms/step - loss: 0.0410 - accuracy: 0.9869 - val_loss: 0.0544 - val_accuracy: 0.9842\n",
            "Epoch 18/90\n",
            "110/110 [==============================] - 2s 21ms/step - loss: 0.0397 - accuracy: 0.9869 - val_loss: 0.0589 - val_accuracy: 0.9824\n",
            "Epoch 19/90\n",
            "110/110 [==============================] - 3s 31ms/step - loss: 0.0395 - accuracy: 0.9876 - val_loss: 0.0620 - val_accuracy: 0.9838\n",
            "Epoch 20/90\n",
            "110/110 [==============================] - 3s 25ms/step - loss: 0.0361 - accuracy: 0.9883 - val_loss: 0.0604 - val_accuracy: 0.9836\n",
            "Epoch 21/90\n",
            "110/110 [==============================] - 3s 23ms/step - loss: 0.0357 - accuracy: 0.9886 - val_loss: 0.0590 - val_accuracy: 0.9844\n",
            "Epoch 22/90\n",
            "110/110 [==============================] - 2s 22ms/step - loss: 0.0364 - accuracy: 0.9887 - val_loss: 0.0623 - val_accuracy: 0.9832\n",
            "Epoch 23/90\n",
            "110/110 [==============================] - 2s 23ms/step - loss: 0.0322 - accuracy: 0.9894 - val_loss: 0.0581 - val_accuracy: 0.9836\n",
            "Epoch 24/90\n",
            "110/110 [==============================] - 4s 33ms/step - loss: 0.0329 - accuracy: 0.9897 - val_loss: 0.0643 - val_accuracy: 0.9850\n",
            "Epoch 25/90\n",
            "110/110 [==============================] - 2s 22ms/step - loss: 0.0310 - accuracy: 0.9901 - val_loss: 0.0637 - val_accuracy: 0.9838\n",
            "Epoch 26/90\n",
            "110/110 [==============================] - 2s 22ms/step - loss: 0.0293 - accuracy: 0.9905 - val_loss: 0.0633 - val_accuracy: 0.9834\n",
            "Epoch 27/90\n",
            "110/110 [==============================] - 2s 21ms/step - loss: 0.0274 - accuracy: 0.9911 - val_loss: 0.0611 - val_accuracy: 0.9844\n",
            "20/20 [==============================] - 0s 8ms/step - loss: 0.0643 - accuracy: 0.9848\n"
          ]
        }
      ],
      "source": [
        "model = tf.keras.models.Sequential([\n",
        "    keras.layers.Dense(units=256, activation='relu', input_dim=input_size\n",
        "                ),\n",
        "    keras.layers.Dropout(0.3),\n",
        "    keras.layers.Dense(units=192, activation='relu'), \n",
        "    keras.layers.Dropout(0.3),\n",
        "    keras.layers.Dense(units=128, activation='relu'),\n",
        "    keras.layers.Dropout(0.3),\n",
        "    keras.layers.Dense(units=10, activation='softmax') #number of classes 10  \n",
        "  ])\n",
        "model.compile(\n",
        "      optimizer=keras.optimizers.Adam(learning_rate=0.001),\n",
        "      loss='categorical_crossentropy',\n",
        "      metrics=['accuracy'],\n",
        "  )\n",
        "model.build()\n",
        "model.summary()\n",
        "history=model.fit(train_X, train_y, batch_size=500, verbose=1,\n",
        "                                    validation_data=(val_X, val_y), epochs=90, callbacks=[\n",
        "        \n",
        "        early_stopping_cb,\n",
        "        early_stopping_mc\n",
        "    ]) \n",
        "  \n",
        "acc = model.evaluate(test_X, test_y,batch_size=500,)"
      ]
    },
    {
      "cell_type": "code",
      "execution_count": 198,
      "id": "OBuKm3dUQLJT",
      "metadata": {
        "colab": {
          "base_uri": "https://localhost:8080/"
        },
        "id": "OBuKm3dUQLJT",
        "outputId": "000caf4c-f245-49a7-df55-fb0dd3d17622"
      },
      "outputs": [
        {
          "data": {
            "text/plain": [
              "[0.0642763078212738, 0.9847999811172485]"
            ]
          },
          "execution_count": 198,
          "metadata": {},
          "output_type": "execute_result"
        }
      ],
      "source": [
        "acc"
      ]
    },
    {
      "cell_type": "markdown",
      "id": "lZT-tOuTQbV9",
      "metadata": {
        "id": "lZT-tOuTQbV9"
      },
      "source": [
        "Final accuracy : 98.5 % and 0.06 loss , close to SOA"
      ]
    },
    {
      "cell_type": "markdown",
      "id": "mset8SSzz1SN",
      "metadata": {
        "id": "mset8SSzz1SN"
      },
      "source": [
        "### Model validation"
      ]
    },
    {
      "cell_type": "markdown",
      "id": "bSxlfKBeBHT9",
      "metadata": {
        "id": "bSxlfKBeBHT9"
      },
      "source": [
        "\n",
        "\n",
        "> accuracy of the best model on the test set is 98,3%\n",
        "\n",
        "\n",
        "\n",
        "> the below figure is the confusion matrix\n",
        "\n"
      ]
    },
    {
      "cell_type": "code",
      "execution_count": 199,
      "id": "ocqSj3m301uI",
      "metadata": {
        "colab": {
          "base_uri": "https://localhost:8080/",
          "height": 297
        },
        "id": "ocqSj3m301uI",
        "outputId": "ff653a21-9edf-4690-c749-98a807e1bf06"
      },
      "outputs": [
        {
          "name": "stdout",
          "output_type": "stream",
          "text": [
            "313/313 [==============================] - 1s 3ms/step\n"
          ]
        },
        {
          "data": {
            "image/png": "[encoded data removed]",
            "text/plain": [
              "<Figure size 432x288 with 2 Axes>"
            ]
          },
          "metadata": {
            "needs_background": "light"
          },
          "output_type": "display_data"
        }
      ],
      "source": [
        "best_model=model\n",
        "pred_y=best_model.predict(test_X)\n",
        "pred_y=np.argmax(pred_y, axis=1)\n",
        "test_y=np.argmax(test_y, axis=1)\n",
        "cm = confusion_matrix(test_y, pred_y)\n",
        "disp = ConfusionMatrixDisplay(confusion_matrix=cm)\n",
        "disp.plot()\n",
        "pyplot.show()"
      ]
    },
    {
      "cell_type": "code",
      "execution_count": 200,
      "id": "fMC4hI4iCBrD",
      "metadata": {
        "colab": {
          "base_uri": "https://localhost:8080/"
        },
        "id": "fMC4hI4iCBrD",
        "outputId": "bf6d6336-bc3e-4b1d-d70d-1ceaa4e30281"
      },
      "outputs": [
        {
          "name": "stdout",
          "output_type": "stream",
          "text": [
            "Classification report for classifier <keras.engine.sequential.Sequential object at 0x7f32d64cbf10>:\n",
            "              precision    recall  f1-score   support\n",
            "\n",
            "           0       0.99      0.99      0.99       980\n",
            "           1       1.00      0.99      0.99      1135\n",
            "           2       0.99      0.99      0.99      1032\n",
            "           3       0.98      0.98      0.98      1010\n",
            "           4       0.98      0.99      0.98       982\n",
            "           5       0.98      0.98      0.98       892\n",
            "           6       0.98      0.99      0.98       958\n",
            "           7       0.98      0.99      0.98      1028\n",
            "           8       0.99      0.97      0.98       974\n",
            "           9       0.99      0.98      0.98      1009\n",
            "\n",
            "    accuracy                           0.98     10000\n",
            "   macro avg       0.98      0.98      0.98     10000\n",
            "weighted avg       0.98      0.98      0.98     10000\n",
            "\n",
            "\n"
          ]
        }
      ],
      "source": [
        "print(\n",
        "    f\"Classification report for classifier {model}:\\n\"\n",
        "    f\"{metrics.classification_report(test_y, pred_y)}\\n\"\n",
        ")"
      ]
    },
    {
      "cell_type": "code",
      "execution_count": 201,
      "id": "BGNpHRnx2Dci",
      "metadata": {
        "colab": {
          "base_uri": "https://localhost:8080/",
          "height": 800
        },
        "id": "BGNpHRnx2Dci",
        "outputId": "783a1da0-0b58-4398-feb2-a2a9899e0f35"
      },
      "outputs": [
        {
          "data": {
            "image/png": "[encoded data removed]",
            "text/plain": [
              "<Figure size 720x432 with 1 Axes>"
            ]
          },
          "metadata": {
            "needs_background": "light"
          },
          "output_type": "display_data"
        },
        {
          "data": {
            "image/png": "[encoded data removed]",
            "text/plain": [
              "<Figure size 720x432 with 1 Axes>"
            ]
          },
          "metadata": {
            "needs_background": "light"
          },
          "output_type": "display_data"
        }
      ],
      "source": [
        "# Plot the loss function\n",
        "fig, ax = pyplot.subplots(1, 1, figsize=(10,6))\n",
        "ax.plot(np.sqrt(history.history['loss']), 'r', label='train')\n",
        "ax.plot(np.sqrt(history.history['val_loss']), 'b' ,label='val')\n",
        "ax.set_xlabel(r'Epoch', fontsize=20)\n",
        "ax.set_ylabel(r'Loss', fontsize=20)\n",
        "ax.legend()\n",
        "ax.tick_params(labelsize=20)\n",
        "\n",
        "# Plot the accuracy\n",
        "fig, ax = pyplot.subplots(1, 1, figsize=(10,6))\n",
        "ax.plot(np.sqrt(history.history['accuracy']), 'r', label='train')\n",
        "ax.plot(np.sqrt(history.history['val_accuracy']), 'b' ,label='val')\n",
        "ax.set_xlabel(r'Epoch', fontsize=20)\n",
        "ax.set_ylabel(r'Accuracy', fontsize=20)\n",
        "ax.legend()\n",
        "ax.tick_params(labelsize=20)"
      ]
    },
    {
      "cell_type": "markdown",
      "id": "MfNhwVLyRccg",
      "metadata": {
        "id": "MfNhwVLyRccg"
      },
      "source": [
        "### Prediction \n",
        "\n",
        "1. Read one image\n",
        "2. preprocessing , scaling and normalisation\n",
        "3. prediction"
      ]
    },
    {
      "cell_type": "code",
      "execution_count": null,
      "id": "-R2700_VRvDR",
      "metadata": {
        "colab": {
          "base_uri": "https://localhost:8080/",
          "height": 265
        },
        "id": "-R2700_VRvDR",
        "outputId": "a93a90ef-dc21-42a5-8feb-1d81f27fa566"
      },
      "outputs": [
        {
          "data": {
            "image/png": "[encoded data removed]",
            "text/plain": [
              "<Figure size 432x288 with 1 Axes>"
            ]
          },
          "metadata": {
            "needs_background": "light"
          },
          "output_type": "display_data"
        }
      ],
      "source": [
        "import cv2\n",
        "image_file_path = r\"/content/sample.png\"\n",
        "image = cv2.imread(image_file_path, cv2.IMREAD_ANYDEPTH)\n",
        "pyplot.imshow(image, cmap=pyplot.get_cmap('gray'))\n",
        "pyplot.show()"
      ]
    },
    {
      "cell_type": "code",
      "execution_count": null,
      "id": "EULfr6-oYSl5",
      "metadata": {
        "colab": {
          "base_uri": "https://localhost:8080/"
        },
        "id": "EULfr6-oYSl5",
        "outputId": "59293c8d-469c-4114-8ff5-41f336c8914a"
      },
      "outputs": [
        {
          "data": {
            "text/plain": [
              "array([[  0,   0,   0,   0,   0,   0,   0,   0,   0,   0,   0,   0,   0,\n",
              "          0,   0,   0,   0,   0,   0,   0,   0,   0,   0,   0,   0,   0,\n",
              "          0,   0],\n",
              "       [  0,   0,   0,   0,   0,   0,   0,   0,   0,   0,   0,   0,   0,\n",
              "          0,   0,   0,   0,   0,   0,   0,   0,   0,   0,   0,   0,   0,\n",
              "          0,   0],\n",
              "       [  0,   0,   0,   0,   0,   0,   0,   0,   0,   0,   0,   0,   0,\n",
              "          0,   0,   0,   0,   0,   0,   0,   0,   0,   0,   0,   0,   0,\n",
              "          0,   0],\n",
              "       [  0,   0,   0,   0,   0,   0,   0,   0,   0,   0,   0,   0,   0,\n",
              "          0, 110, 253, 253, 253, 255, 180, 107,   5,   0,   0,   0,   0,\n",
              "          0,   0],\n",
              "       [  0,   0,   0,   0,   0,   0,   0,   0,   0,   0,   0,   0,   0,\n",
              "          0, 161, 252, 252, 252, 253, 252, 252,  67,   0,   0,   0,   0,\n",
              "          0,   0],\n",
              "       [  0,   0,   0,   0,   0,   0,   0,   0,   0,   0,   0,   0,   0,\n",
              "          0,  65, 183, 208, 252, 215, 196, 252, 185,   7,   0,   0,   0,\n",
              "          0,   0],\n",
              "       [  0,   0,   0,   0,   0,   0,   0,   0,   0,   0,   0,   0,   0,\n",
              "          0,   0,   0,  17,  45,  21,  47, 252, 252,  22,   0,   0,   0,\n",
              "          0,   0],\n",
              "       [  0,   0,   0,   0,   0,   0,   0,   0,   0,   0,   0,   0,   0,\n",
              "          0,   0,   0,   0,   0,  64, 140, 252, 210,  12,   0,   0,   0,\n",
              "          0,   0],\n",
              "       [  0,   0,   0,   0,   0,   0,   0,   0,   0,   0,   0,   0,   0,\n",
              "          0,   0,   0,   9, 128, 202, 253, 253, 150,   0,   0,   0,   0,\n",
              "          0,   0],\n",
              "       [  0,   0,   0,   0,   0,   0,   0,   0,   0,   0,   0,   0,   0,\n",
              "        162, 161, 161, 194, 252, 253, 223, 123,  17,   0,   0,   0,   0,\n",
              "          0,   0],\n",
              "       [  0,   0,   0,   0,   0,   0,   0,   0,   0,   0,   0,   0,  32,\n",
              "        253, 252, 252, 252, 252, 122,  25,   0,   0,   0,   0,   0,   0,\n",
              "          0,   0],\n",
              "       [  0,   0,   0,   0,   0,   0,   0,   0,   0,   0,   0,   0,  21,\n",
              "        253, 252, 252, 252, 116,   0,   0,   0,   0,   0,   0,   0,   0,\n",
              "          0,   0],\n",
              "       [  0,   0,   0,   0,   0,   0,   0,   0,   0,   0,   0,   0,   0,\n",
              "        137, 137, 137, 137,  12,   0,   0,   0,   0,   0,   0,   0,   0,\n",
              "          0,   0],\n",
              "       [  0,   0,   0,   0,   0,   0,   0,   0,   0,   0,   0,   0,   0,\n",
              "          0,   0,   0,   0,   0,  66,  62,   0,   0,   0,   0,   0,   0,\n",
              "          0,   0],\n",
              "       [  0,   0,   0,   0,   0,   0,   0,   0,   0,   0,   0,   0,   0,\n",
              "          0,   0,   0,   0,   0, 103,  33,   0,   0,   0,   0,   0,   0,\n",
              "          0,   0],\n",
              "       [  0,   0,   0,   0,  13,  70,  13,   0,   0,   0,   0,   0,   0,\n",
              "          0,   0,   0,   0,   0,   0,  34,  82,   0,   0,   0,   0,   0,\n",
              "          0,   0],\n",
              "       [  0,   0,   0,  62, 215, 252,  45,   0,   0,   0,   0,   0,   0,\n",
              "          0,   0,   0,   0,   0,   0,  47, 240,  37,   0,   0,   0,   0,\n",
              "          0,   0],\n",
              "       [  0,   0,   0, 138, 252, 221,  25,   0,   0,   0,   0,   0,   0,\n",
              "          0,   0,   0,   0,   0,   0,  47, 252,  45,   0,   0,   0,   0,\n",
              "          0,   0],\n",
              "       [  0,   0,   0, 139, 253, 131,   0,   0,   0,   0,   0,   0,   0,\n",
              "          0,   0,   0,   0,   0,  11,  57, 184,   0,   0,   0,   0,   0,\n",
              "          0,   0],\n",
              "       [  0,   0,   0, 138, 252, 227,  67,  26,   0,   0,   0,   0,   0,\n",
              "          0,   0,  13,  89, 109, 203, 211,  98,   0,   0,   0,   0,   0,\n",
              "          0,   0],\n",
              "       [  0,   0,   0, 138, 252, 252, 252, 221, 185, 184, 184, 184, 131,\n",
              "        185, 184, 203, 252, 252, 247,  98,   0,   0,   0,   0,   0,   0,\n",
              "          0,   0],\n",
              "       [  0,   0,   0,  25, 135, 252, 252, 252, 253, 252, 252, 252, 252,\n",
              "        253, 252, 252, 252, 210,  94,   0,   0,   0,   0,   0,   0,   0,\n",
              "          0,   0],\n",
              "       [  0,   0,   0,   0,   5,  22, 117, 242, 253, 252, 252, 252, 252,\n",
              "        253, 231, 137,  96,  12,   0,   0,   0,   0,   0,   0,   0,   0,\n",
              "          0,   0],\n",
              "       [  0,   0,   0,   0,   0,   0,   0,   0,   0,   0,   0,   0,   0,\n",
              "          0,   0,   0,   0,   0,   0,   0,   0,   0,   0,   0,   0,   0,\n",
              "          0,   0],\n",
              "       [  0,   0,   0,   0,   0,   0,   0,   0,   0,   0,   0,   0,   0,\n",
              "          0,   0,   0,   0,   0,   0,   0,   0,   0,   0,   0,   0,   0,\n",
              "          0,   0],\n",
              "       [  0,   0,   0,   0,   0,   0,   0,   0,   0,   0,   0,   0,   0,\n",
              "          0,   0,   0,   0,   0,   0,   0,   0,   0,   0,   0,   0,   0,\n",
              "          0,   0],\n",
              "       [  0,   0,   0,   0,   0,   0,   0,   0,   0,   0,   0,   0,   0,\n",
              "          0,   0,   0,   0,   0,   0,   0,   0,   0,   0,   0,   0,   0,\n",
              "          0,   0],\n",
              "       [  0,   0,   0,   0,   0,   0,   0,   0,   0,   0,   0,   0,   0,\n",
              "          0,   0,   0,   0,   0,   0,   0,   0,   0,   0,   0,   0,   0,\n",
              "          0,   0]], dtype=uint8)"
            ]
          },
          "execution_count": 106,
          "metadata": {},
          "output_type": "execute_result"
        }
      ],
      "source": [
        "image"
      ]
    },
    {
      "cell_type": "code",
      "execution_count": null,
      "id": "soLL33IKYhEU",
      "metadata": {
        "id": "soLL33IKYhEU"
      },
      "outputs": [],
      "source": [
        "image=np.reshape(image, [-1, input_size])"
      ]
    },
    {
      "cell_type": "code",
      "execution_count": null,
      "id": "7DI2JjRMa830",
      "metadata": {
        "id": "7DI2JjRMa830"
      },
      "outputs": [],
      "source": [
        "Im_pred = tf.cast(image, tf.float32) / 255.0"
      ]
    },
    {
      "cell_type": "code",
      "execution_count": null,
      "id": "IUmw0XqBbE9B",
      "metadata": {
        "colab": {
          "base_uri": "https://localhost:8080/"
        },
        "id": "IUmw0XqBbE9B",
        "outputId": "7d92ce42-01ca-43da-8e70-086c353b7c90"
      },
      "outputs": [
        {
          "name": "stdout",
          "output_type": "stream",
          "text": [
            "1/1 [==============================] - 0s 23ms/step\n"
          ]
        }
      ],
      "source": [
        "Im_pred_y=best_model.predict(Im_pred)"
      ]
    },
    {
      "cell_type": "code",
      "execution_count": null,
      "id": "zbi6ShgBbMuv",
      "metadata": {
        "id": "zbi6ShgBbMuv"
      },
      "outputs": [],
      "source": [
        "Im_pred_y=np.argmax(Im_pred_y, axis=1)"
      ]
    },
    {
      "cell_type": "code",
      "execution_count": null,
      "id": "hFesgygMbQ_A",
      "metadata": {
        "colab": {
          "base_uri": "https://localhost:8080/"
        },
        "id": "hFesgygMbQ_A",
        "outputId": "b70cbe9e-6853-4880-ec04-6a24c5074ad8"
      },
      "outputs": [
        {
          "data": {
            "text/plain": [
              "3"
            ]
          },
          "execution_count": 156,
          "metadata": {},
          "output_type": "execute_result"
        }
      ],
      "source": [
        "Im_pred_y[0]"
      ]
    },
    {
      "cell_type": "markdown",
      "id": "wqswVWr_02V-",
      "metadata": {
        "id": "wqswVWr_02V-"
      },
      "source": [
        "### Export Env"
      ]
    },
    {
      "cell_type": "code",
      "execution_count": null,
      "id": "avhKdoRz2gM4",
      "metadata": {
        "colab": {
          "base_uri": "https://localhost:8080/"
        },
        "id": "avhKdoRz2gM4",
        "outputId": "499f2f8b-b627-4843-9373-8bca6e9ce0ed"
      },
      "outputs": [
        {
          "name": "stdout",
          "output_type": "stream",
          "text": [
            "Python 3.9.16\n"
          ]
        }
      ],
      "source": [
        "%%python --version"
      ]
    },
    {
      "cell_type": "code",
      "execution_count": null,
      "id": "uyKbhJ_I01hw",
      "metadata": {
        "id": "uyKbhJ_I01hw"
      },
      "outputs": [],
      "source": [
        "%pip freeze > requirements.txt\n"
      ]
    },
    {
      "cell_type": "markdown",
      "id": "8z_eEt9EbrS-",
      "metadata": {
        "id": "8z_eEt9EbrS-"
      },
      "source": [
        "### Save model\n",
        "\n",
        "\n",
        "> Save model in binary format for serving in a web app.\n",
        "\n"
      ]
    },
    {
      "cell_type": "code",
      "execution_count": null,
      "id": "zXVE-zVvcLrw",
      "metadata": {
        "colab": {
          "base_uri": "https://localhost:8080/"
        },
        "id": "zXVE-zVvcLrw",
        "outputId": "c7aa63ed-a0f9-4cdc-beb7-eda585a95b22"
      },
      "outputs": [
        {
          "name": "stderr",
          "output_type": "stream",
          "text": [
            "WARNING:absl:Found untraced functions such as _update_step_xla while saving (showing 1 of 1). These functions will not be directly callable after loading.\n"
          ]
        }
      ],
      "source": [
        "best_model.save(\"digits_classifier\")"
      ]
    },
    {
      "cell_type": "code",
      "execution_count": null,
      "id": "QjjsfPQJeubq",
      "metadata": {
        "id": "QjjsfPQJeubq"
      },
      "outputs": [],
      "source": [
        "loaded_model=keras.models.load_model(\"digits_classifier\")"
      ]
    },
    {
      "cell_type": "code",
      "execution_count": null,
      "id": "RsIaIjblkAom",
      "metadata": {
        "colab": {
          "base_uri": "https://localhost:8080/",
          "height": 35
        },
        "id": "RsIaIjblkAom",
        "outputId": "87c8a2ee-a302-4db8-f427-d832d8645d1a"
      },
      "outputs": [
        {
          "data": {
            "application/vnd.google.colaboratory.intrinsic+json": {
              "type": "string"
            },
            "text/plain": [
              "'/content/updated_digits_classifier_archived.zip'"
            ]
          },
          "execution_count": 159,
          "metadata": {},
          "output_type": "execute_result"
        }
      ],
      "source": [
        "import shutil\n",
        "shutil.make_archive(\"updated_digits_classifier_archived\", 'zip', \"digits_classifier\")"
      ]
    },
    {
      "cell_type": "code",
      "execution_count": null,
      "id": "u3WdKm4iB-Y_",
      "metadata": {
        "id": "u3WdKm4iB-Y_"
      },
      "outputs": [],
      "source": []
    }
  ],
  "metadata": {
    "colab": {
      "provenance": []
    },
    "kernelspec": {
      "display_name": "Python 3",
      "language": "python",
      "name": "python3"
    },
    "language_info": {
      "codemirror_mode": {
        "name": "ipython",
        "version": 2
      },
      "file_extension": ".py",
      "mimetype": "text/x-python",
      "name": "python",
      "nbconvert_exporter": "python",
      "pygments_lexer": "ipython2",
      "version": "2.7.3"
    }
  },
  "nbformat": 4,
  "nbformat_minor": 5
}
